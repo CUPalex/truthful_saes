{
 "cells": [
  {
   "cell_type": "code",
   "execution_count": 1,
   "metadata": {},
   "outputs": [
    {
     "data": {
      "text/plain": [
       "1"
      ]
     },
     "execution_count": 1,
     "metadata": {},
     "output_type": "execute_result"
    }
   ],
   "source": [
    "import os\n",
    "import torch\n",
    "\n",
    "os.environ[\"CUDA_VISIBLE_DEVICES\"] = \"7\"\n",
    "torch.cuda.device_count()"
   ]
  },
  {
   "cell_type": "code",
   "execution_count": 2,
   "metadata": {},
   "outputs": [
    {
     "name": "stderr",
     "output_type": "stream",
     "text": [
      "WARNING:root:You tried to specify center_unembed=True for a model using logit softcap, but this can't be done! Softcapping is not invariant upon adding a constantSetting center_unembed=False instead.\n",
      "Loading checkpoint shards: 100%|██████████| 3/3 [01:20<00:00, 26.75s/it]\n",
      "WARNING:root:You are not using LayerNorm, so the writing weights can't be centered! Skipping\n"
     ]
    },
    {
     "name": "stdout",
     "output_type": "stream",
     "text": [
      "Loaded pretrained model google/gemma-2-2b into HookedTransformer\n",
      "blocks.15.attn.hook_z\n"
     ]
    }
   ],
   "source": [
    "from transformer_lens import HookedTransformer\n",
    "from sae_lens import SAE\n",
    "import torch\n",
    "from sae_lens.toolkit.pretrained_saes import get_gpt2_res_jb_saes\n",
    "\n",
    "device = \"cuda\" if torch.cuda.is_available() else \"cpu\"\n",
    "\n",
    "# get model\n",
    "model = HookedTransformer.from_pretrained(\"google/gemma-2-2b\", device = device)\n",
    "\n",
    "layer = 15\n",
    "\n",
    "# get the SAE for this layer\n",
    "sae, cfg_dict, _ = SAE.from_pretrained(\n",
    "    release = \"gemma-scope-2b-pt-att-canonical\",\n",
    "    sae_id = f\"layer_{layer}/width_16k/canonical\",\n",
    "    device = device\n",
    ")\n",
    "\n",
    "# get hook point\n",
    "hook_point = sae.cfg.hook_name\n",
    "print(hook_point)"
   ]
  },
  {
   "cell_type": "code",
   "execution_count": 6,
   "metadata": {},
   "outputs": [
    {
     "name": "stderr",
     "output_type": "stream",
     "text": [
      "72it [02:03,  1.71s/it]\n"
     ]
    },
    {
     "data": {
      "text/plain": [
       "(0.7157894736842105, 2.3397375558551987)"
      ]
     },
     "execution_count": 6,
     "metadata": {},
     "output_type": "execute_result"
    }
   ],
   "source": [
    "from utils.testing import get_arc_easy_accuracy\n",
    "\n",
    "accuracy, avg_logits_diff = get_arc_easy_accuracy(model, sae.cfg.context_size, batch_size=8, dataset_split=\"validation\")\n",
    "\n",
    "accuracy, avg_logits_diff"
   ]
  },
  {
   "cell_type": "code",
   "execution_count": 4,
   "metadata": {},
   "outputs": [
    {
     "name": "stderr",
     "output_type": "stream",
     "text": [
      "Map: 100%|██████████| 2251/2251 [00:00<00:00, 8081.16 examples/s]\n",
      "Filter: 100%|██████████| 500/500 [00:00<00:00, 27507.24 examples/s]\n"
     ]
    },
    {
     "name": "stdout",
     "output_type": "stream",
     "text": [
      "500 264\n"
     ]
    },
    {
     "name": "stderr",
     "output_type": "stream",
     "text": [
      "Map: 100%|██████████| 500/500 [00:00<00:00, 1485.43 examples/s]\n",
      "100%|██████████| 63/63 [00:34<00:00,  1.82it/s]\n",
      "100%|██████████| 63/63 [00:44<00:00,  1.41it/s]\n",
      "100%|██████████| 63/63 [00:39<00:00,  1.58it/s]\n",
      "100%|██████████| 63/63 [00:39<00:00,  1.59it/s]\n",
      "100%|██████████| 63/63 [00:40<00:00,  1.57it/s]\n",
      "100%|██████████| 5/5 [03:55<00:00, 47.17s/it]\n"
     ]
    }
   ],
   "source": [
    "from utils.get_steering_vector import get_steering_vectors_lr_and_mean_diff\n",
    "from utils.dataset import get_tokenized_arc_easy_for_probing\n",
    "\n",
    "res_layers_to_invade = [9, 10, 11, 13, 15]\n",
    "\n",
    "tokenized_dataset = get_tokenized_arc_easy_for_probing(model=model, sae_context_size=sae.cfg.context_size,\n",
    "                                                       dataset_split=\"train\", batch_size=8, select_items=500)\n",
    "Xs_difference_res, lrs_res, hook_names_res = get_steering_vectors_lr_and_mean_diff(model=model, layers_to_invade=res_layers_to_invade,\n",
    "                                                                       device=\"cuda\",\n",
    "                                                                       tokenized_dataset=tokenized_dataset, batch_size=8, type_of_activation=\"res\")"
   ]
  },
  {
   "cell_type": "code",
   "execution_count": 11,
   "metadata": {},
   "outputs": [
    {
     "data": {
      "text/plain": [
       "6851"
      ]
     },
     "execution_count": 11,
     "metadata": {},
     "output_type": "execute_result"
    }
   ],
   "source": [
    "(Xs_difference_res[0] != 0).sum()"
   ]
  },
  {
   "cell_type": "code",
   "execution_count": 15,
   "metadata": {},
   "outputs": [
    {
     "name": "stderr",
     "output_type": "stream",
     "text": [
      "72it [00:49,  1.46it/s]\n"
     ]
    },
    {
     "name": "stdout",
     "output_type": "stream",
     "text": [
      "1 (0.7157894736842105, 2.340574190909402)\n"
     ]
    },
    {
     "name": "stderr",
     "output_type": "stream",
     "text": [
      "72it [00:58,  1.23it/s]\n"
     ]
    },
    {
     "name": "stdout",
     "output_type": "stream",
     "text": [
      "2 (0.7157894736842105, 2.341869985848142)\n"
     ]
    },
    {
     "name": "stderr",
     "output_type": "stream",
     "text": [
      "72it [01:26,  1.21s/it]\n"
     ]
    },
    {
     "name": "stdout",
     "output_type": "stream",
     "text": [
      "7 (0.7157894736842105, 2.3556804523133397)\n"
     ]
    },
    {
     "name": "stderr",
     "output_type": "stream",
     "text": [
      "72it [01:17,  1.08s/it]\n"
     ]
    },
    {
     "name": "stdout",
     "output_type": "stream",
     "text": [
      "18 (0.7140350877192982, 2.3288942822238856)\n"
     ]
    },
    {
     "name": "stderr",
     "output_type": "stream",
     "text": [
      "72it [01:12,  1.00s/it]\n"
     ]
    },
    {
     "name": "stdout",
     "output_type": "stream",
     "text": [
      "50 (0.7175438596491228, 2.362720637572439)\n"
     ]
    },
    {
     "name": "stderr",
     "output_type": "stream",
     "text": [
      "72it [01:19,  1.11s/it]\n"
     ]
    },
    {
     "name": "stdout",
     "output_type": "stream",
     "text": [
      "135 (0.7087719298245614, 2.3389503855454294)\n"
     ]
    },
    {
     "name": "stderr",
     "output_type": "stream",
     "text": [
      "72it [01:23,  1.16s/it]\n"
     ]
    },
    {
     "name": "stdout",
     "output_type": "stream",
     "text": [
      "360 (0.7052631578947368, 2.2011751292044655)\n"
     ]
    },
    {
     "name": "stderr",
     "output_type": "stream",
     "text": [
      "10it [00:10,  1.04s/it]\n"
     ]
    },
    {
     "ename": "KeyboardInterrupt",
     "evalue": "",
     "output_type": "error",
     "traceback": [
      "\u001b[0;31m---------------------------------------------------------------------------\u001b[0m",
      "\u001b[0;31mKeyboardInterrupt\u001b[0m                         Traceback (most recent call last)",
      "Cell \u001b[0;32mIn[15], line 19\u001b[0m\n\u001b[1;32m     16\u001b[0m     \u001b[38;5;28;01mbreak\u001b[39;00m\n\u001b[1;32m     18\u001b[0m steering_strengths \u001b[38;5;241m=\u001b[39m [\u001b[38;5;241m1.\u001b[39m \u001b[38;5;28;01mfor\u001b[39;00m _ \u001b[38;5;129;01min\u001b[39;00m \u001b[38;5;28mrange\u001b[39m(\u001b[38;5;28mlen\u001b[39m(steering_vectors_res))]\n\u001b[0;32m---> 19\u001b[0m res \u001b[38;5;241m=\u001b[39m get_arc_easy_accuracy_with_steering_multiple_hooks(model\u001b[38;5;241m=\u001b[39mmodel, hook_points\u001b[38;5;241m=\u001b[39mhook_names_res, sae_context_size\u001b[38;5;241m=\u001b[39m\u001b[38;5;241m1024\u001b[39m,\n\u001b[1;32m     20\u001b[0m             batch_size\u001b[38;5;241m=\u001b[39m\u001b[38;5;241m8\u001b[39m, dataset_split\u001b[38;5;241m=\u001b[39m\u001b[38;5;124m\"\u001b[39m\u001b[38;5;124mvalidation\u001b[39m\u001b[38;5;124m\"\u001b[39m, steering_vectors\u001b[38;5;241m=\u001b[39msteering_vectors_res,\n\u001b[1;32m     21\u001b[0m             steering_strengths\u001b[38;5;241m=\u001b[39msteering_strengths)\n\u001b[1;32m     22\u001b[0m \u001b[38;5;28mprint\u001b[39m(num_vectors, res)\n\u001b[1;32m     23\u001b[0m evaluated\u001b[38;5;241m.\u001b[39mappend(res)\n",
      "File \u001b[0;32m/project/inductive-bias/llama/sae/utils/steering.py:167\u001b[0m, in \u001b[0;36mget_arc_easy_accuracy_with_steering_multiple_hooks\u001b[0;34m(model, hook_points, sae_context_size, batch_size, dataset_split, steering_vectors, steering_strengths)\u001b[0m\n\u001b[1;32m    164\u001b[0m     steering_hooks\u001b[38;5;241m.\u001b[39mappend((hook_point, steering_hook))\n\u001b[1;32m    166\u001b[0m \u001b[38;5;28;01mwith\u001b[39;00m model\u001b[38;5;241m.\u001b[39mhooks(fwd_hooks\u001b[38;5;241m=\u001b[39msteering_hooks):\n\u001b[0;32m--> 167\u001b[0m     logits \u001b[38;5;241m=\u001b[39m model(batch_tokens, return_type\u001b[38;5;241m=\u001b[39m\u001b[38;5;124m\"\u001b[39m\u001b[38;5;124mlogits\u001b[39m\u001b[38;5;124m\"\u001b[39m)\u001b[38;5;241m.\u001b[39mcpu()\n\u001b[1;32m    168\u001b[0m correct_logits \u001b[38;5;241m=\u001b[39m [model\u001b[38;5;241m.\u001b[39mtokenizer\u001b[38;5;241m.\u001b[39mconvert_tokens_to_ids(\u001b[38;5;28mchr\u001b[39m(\u001b[38;5;28mord\u001b[39m(\u001b[38;5;124m\"\u001b[39m\u001b[38;5;124mA\u001b[39m\u001b[38;5;124m\"\u001b[39m) \u001b[38;5;241m+\u001b[39m label)) \u001b[38;5;28;01mfor\u001b[39;00m label \u001b[38;5;129;01min\u001b[39;00m batch[\u001b[38;5;124m\"\u001b[39m\u001b[38;5;124mcorrect_label\u001b[39m\u001b[38;5;124m\"\u001b[39m]]\n\u001b[1;32m    169\u001b[0m incorrect_logits \u001b[38;5;241m=\u001b[39m [\n\u001b[1;32m    170\u001b[0m         [\n\u001b[1;32m    171\u001b[0m             model\u001b[38;5;241m.\u001b[39mtokenizer\u001b[38;5;241m.\u001b[39mconvert_tokens_to_ids(\u001b[38;5;28mchr\u001b[39m(\u001b[38;5;28mord\u001b[39m(\u001b[38;5;124m\"\u001b[39m\u001b[38;5;124mA\u001b[39m\u001b[38;5;124m\"\u001b[39m) \u001b[38;5;241m+\u001b[39m label)) \u001b[38;5;28;01mfor\u001b[39;00m label \u001b[38;5;129;01min\u001b[39;00m \u001b[38;5;28mrange\u001b[39m(num_labels) \u001b[38;5;28;01mif\u001b[39;00m label \u001b[38;5;241m!=\u001b[39m correct_label\n\u001b[1;32m    172\u001b[0m         ]\n\u001b[1;32m    173\u001b[0m         \u001b[38;5;28;01mfor\u001b[39;00m correct_label, num_labels \u001b[38;5;129;01min\u001b[39;00m \u001b[38;5;28mzip\u001b[39m(batch[\u001b[38;5;124m\"\u001b[39m\u001b[38;5;124mcorrect_label\u001b[39m\u001b[38;5;124m\"\u001b[39m], batch[\u001b[38;5;124m\"\u001b[39m\u001b[38;5;124mnum_labels\u001b[39m\u001b[38;5;124m\"\u001b[39m])\n\u001b[1;32m    174\u001b[0m     ]\n",
      "\u001b[0;31mKeyboardInterrupt\u001b[0m: "
     ]
    }
   ],
   "source": [
    "from utils.steering import get_arc_easy_accuracy_with_steering_multiple_hooks\n",
    "import numpy as np\n",
    "\n",
    "evaluated = []\n",
    "for num_vectors in np.logspace(0, np.log10((Xs_difference_res[0] != 0).sum()), 10, base=10., dtype=int):\n",
    "    steering_vectors_res = []\n",
    "    for activation_vector, layer in zip(Xs_difference_res, res_layers_to_invade):\n",
    "        sae, cfg_dict, _ = SAE.from_pretrained(\n",
    "            release = \"gemma-scope-2b-pt-res-canonical\",\n",
    "            sae_id = f\"layer_{layer}/width_16k/canonical\",\n",
    "            device = device\n",
    "        )\n",
    "        features = np.argsort(-activation_vector)[:num_vectors]\n",
    "        steering_vector = sum([sae.W_dec[feature] for feature in features])\n",
    "        steering_vectors_res.append(steering_vector)\n",
    "        break\n",
    "\n",
    "    steering_strengths = [1. for _ in range(len(steering_vectors_res))]\n",
    "    res = get_arc_easy_accuracy_with_steering_multiple_hooks(model=model, hook_points=hook_names_res, sae_context_size=1024,\n",
    "                batch_size=8, dataset_split=\"validation\", steering_vectors=steering_vectors_res,\n",
    "                steering_strengths=steering_strengths)\n",
    "    print(num_vectors, res)\n",
    "    evaluated.append(res)\n",
    "evaluated"
   ]
  },
  {
   "cell_type": "code",
   "execution_count": 26,
   "metadata": {},
   "outputs": [
    {
     "name": "stderr",
     "output_type": "stream",
     "text": [
      "72it [01:30,  1.26s/it]\n"
     ]
    },
    {
     "name": "stdout",
     "output_type": "stream",
     "text": [
      "1 (0.7157894736842105, 2.3397518559506065)\n"
     ]
    },
    {
     "name": "stderr",
     "output_type": "stream",
     "text": [
      "72it [01:44,  1.45s/it]\n"
     ]
    },
    {
     "name": "stdout",
     "output_type": "stream",
     "text": [
      "2 (0.7157894736842105, 2.341765213012695)\n"
     ]
    },
    {
     "name": "stderr",
     "output_type": "stream",
     "text": [
      "72it [01:28,  1.23s/it]\n"
     ]
    },
    {
     "name": "stdout",
     "output_type": "stream",
     "text": [
      "7 (0.7175438596491228, 2.352339526226646)\n"
     ]
    },
    {
     "name": "stderr",
     "output_type": "stream",
     "text": [
      "72it [01:40,  1.40s/it]\n"
     ]
    },
    {
     "name": "stdout",
     "output_type": "stream",
     "text": [
      "18 (0.7175438596491228, 2.338314894626015)\n"
     ]
    },
    {
     "name": "stderr",
     "output_type": "stream",
     "text": [
      "72it [01:36,  1.34s/it]\n"
     ]
    },
    {
     "name": "stdout",
     "output_type": "stream",
     "text": [
      "50 (0.7157894736842105, 2.350254943078024)\n"
     ]
    },
    {
     "name": "stderr",
     "output_type": "stream",
     "text": [
      "72it [01:18,  1.09s/it]\n"
     ]
    },
    {
     "name": "stdout",
     "output_type": "stream",
     "text": [
      "135 (0.7157894736842105, 2.3523469255681624)\n"
     ]
    },
    {
     "name": "stderr",
     "output_type": "stream",
     "text": [
      "72it [01:24,  1.18s/it]\n"
     ]
    },
    {
     "name": "stdout",
     "output_type": "stream",
     "text": [
      "360 (0.7157894736842105, 2.3512777211373312)\n"
     ]
    },
    {
     "name": "stderr",
     "output_type": "stream",
     "text": [
      "72it [01:11,  1.01it/s]\n"
     ]
    },
    {
     "name": "stdout",
     "output_type": "stream",
     "text": [
      "962 (0.7157894736842105, 2.359884862732469)\n"
     ]
    },
    {
     "name": "stderr",
     "output_type": "stream",
     "text": [
      "22it [00:21,  1.00it/s]\n"
     ]
    },
    {
     "ename": "KeyboardInterrupt",
     "evalue": "",
     "output_type": "error",
     "traceback": [
      "\u001b[0;31m---------------------------------------------------------------------------\u001b[0m",
      "\u001b[0;31mKeyboardInterrupt\u001b[0m                         Traceback (most recent call last)",
      "Cell \u001b[0;32mIn[26], line 20\u001b[0m\n\u001b[1;32m     17\u001b[0m     \u001b[38;5;28;01mbreak\u001b[39;00m\n\u001b[1;32m     19\u001b[0m steering_strengths \u001b[38;5;241m=\u001b[39m [\u001b[38;5;241m1.\u001b[39m \u001b[38;5;28;01mfor\u001b[39;00m _ \u001b[38;5;129;01min\u001b[39;00m \u001b[38;5;28mrange\u001b[39m(\u001b[38;5;28mlen\u001b[39m(steering_vectors_res))]\n\u001b[0;32m---> 20\u001b[0m res \u001b[38;5;241m=\u001b[39m get_arc_easy_accuracy_with_steering_multiple_hooks(model\u001b[38;5;241m=\u001b[39mmodel, hook_points\u001b[38;5;241m=\u001b[39mhook_names_res, sae_context_size\u001b[38;5;241m=\u001b[39m\u001b[38;5;241m1024\u001b[39m,\n\u001b[1;32m     21\u001b[0m             batch_size\u001b[38;5;241m=\u001b[39m\u001b[38;5;241m8\u001b[39m, dataset_split\u001b[38;5;241m=\u001b[39m\u001b[38;5;124m\"\u001b[39m\u001b[38;5;124mvalidation\u001b[39m\u001b[38;5;124m\"\u001b[39m, steering_vectors\u001b[38;5;241m=\u001b[39msteering_vectors_res,\n\u001b[1;32m     22\u001b[0m             steering_strengths\u001b[38;5;241m=\u001b[39msteering_strengths)\n\u001b[1;32m     23\u001b[0m \u001b[38;5;28mprint\u001b[39m(num_vectors, res)\n\u001b[1;32m     24\u001b[0m evaluated\u001b[38;5;241m.\u001b[39mappend(res)\n",
      "File \u001b[0;32m/project/inductive-bias/llama/sae/utils/steering.py:167\u001b[0m, in \u001b[0;36mget_arc_easy_accuracy_with_steering_multiple_hooks\u001b[0;34m(model, hook_points, sae_context_size, batch_size, dataset_split, steering_vectors, steering_strengths)\u001b[0m\n\u001b[1;32m    164\u001b[0m     steering_hooks\u001b[38;5;241m.\u001b[39mappend((hook_point, steering_hook))\n\u001b[1;32m    166\u001b[0m \u001b[38;5;28;01mwith\u001b[39;00m model\u001b[38;5;241m.\u001b[39mhooks(fwd_hooks\u001b[38;5;241m=\u001b[39msteering_hooks):\n\u001b[0;32m--> 167\u001b[0m     logits \u001b[38;5;241m=\u001b[39m model(batch_tokens, return_type\u001b[38;5;241m=\u001b[39m\u001b[38;5;124m\"\u001b[39m\u001b[38;5;124mlogits\u001b[39m\u001b[38;5;124m\"\u001b[39m)\u001b[38;5;241m.\u001b[39mcpu()\n\u001b[1;32m    168\u001b[0m correct_logits \u001b[38;5;241m=\u001b[39m [model\u001b[38;5;241m.\u001b[39mtokenizer\u001b[38;5;241m.\u001b[39mconvert_tokens_to_ids(\u001b[38;5;28mchr\u001b[39m(\u001b[38;5;28mord\u001b[39m(\u001b[38;5;124m\"\u001b[39m\u001b[38;5;124mA\u001b[39m\u001b[38;5;124m\"\u001b[39m) \u001b[38;5;241m+\u001b[39m label)) \u001b[38;5;28;01mfor\u001b[39;00m label \u001b[38;5;129;01min\u001b[39;00m batch[\u001b[38;5;124m\"\u001b[39m\u001b[38;5;124mcorrect_label\u001b[39m\u001b[38;5;124m\"\u001b[39m]]\n\u001b[1;32m    169\u001b[0m incorrect_logits \u001b[38;5;241m=\u001b[39m [\n\u001b[1;32m    170\u001b[0m         [\n\u001b[1;32m    171\u001b[0m             model\u001b[38;5;241m.\u001b[39mtokenizer\u001b[38;5;241m.\u001b[39mconvert_tokens_to_ids(\u001b[38;5;28mchr\u001b[39m(\u001b[38;5;28mord\u001b[39m(\u001b[38;5;124m\"\u001b[39m\u001b[38;5;124mA\u001b[39m\u001b[38;5;124m\"\u001b[39m) \u001b[38;5;241m+\u001b[39m label)) \u001b[38;5;28;01mfor\u001b[39;00m label \u001b[38;5;129;01min\u001b[39;00m \u001b[38;5;28mrange\u001b[39m(num_labels) \u001b[38;5;28;01mif\u001b[39;00m label \u001b[38;5;241m!=\u001b[39m correct_label\n\u001b[1;32m    172\u001b[0m         ]\n\u001b[1;32m    173\u001b[0m         \u001b[38;5;28;01mfor\u001b[39;00m correct_label, num_labels \u001b[38;5;129;01min\u001b[39;00m \u001b[38;5;28mzip\u001b[39m(batch[\u001b[38;5;124m\"\u001b[39m\u001b[38;5;124mcorrect_label\u001b[39m\u001b[38;5;124m\"\u001b[39m], batch[\u001b[38;5;124m\"\u001b[39m\u001b[38;5;124mnum_labels\u001b[39m\u001b[38;5;124m\"\u001b[39m])\n\u001b[1;32m    174\u001b[0m     ]\n",
      "File \u001b[0;32m/proj/inductive-bias.shadow/abakalov.anaconda/envs/sae/lib/python3.11/site-packages/torch/nn/modules/module.py:1501\u001b[0m, in \u001b[0;36mModule._call_impl\u001b[0;34m(self, *args, **kwargs)\u001b[0m\n\u001b[1;32m   1496\u001b[0m \u001b[38;5;66;03m# If we don't have any hooks, we want to skip the rest of the logic in\u001b[39;00m\n\u001b[1;32m   1497\u001b[0m \u001b[38;5;66;03m# this function, and just call forward.\u001b[39;00m\n\u001b[1;32m   1498\u001b[0m \u001b[38;5;28;01mif\u001b[39;00m \u001b[38;5;129;01mnot\u001b[39;00m (\u001b[38;5;28mself\u001b[39m\u001b[38;5;241m.\u001b[39m_backward_hooks \u001b[38;5;129;01mor\u001b[39;00m \u001b[38;5;28mself\u001b[39m\u001b[38;5;241m.\u001b[39m_backward_pre_hooks \u001b[38;5;129;01mor\u001b[39;00m \u001b[38;5;28mself\u001b[39m\u001b[38;5;241m.\u001b[39m_forward_hooks \u001b[38;5;129;01mor\u001b[39;00m \u001b[38;5;28mself\u001b[39m\u001b[38;5;241m.\u001b[39m_forward_pre_hooks\n\u001b[1;32m   1499\u001b[0m         \u001b[38;5;129;01mor\u001b[39;00m _global_backward_pre_hooks \u001b[38;5;129;01mor\u001b[39;00m _global_backward_hooks\n\u001b[1;32m   1500\u001b[0m         \u001b[38;5;129;01mor\u001b[39;00m _global_forward_hooks \u001b[38;5;129;01mor\u001b[39;00m _global_forward_pre_hooks):\n\u001b[0;32m-> 1501\u001b[0m     \u001b[38;5;28;01mreturn\u001b[39;00m forward_call(\u001b[38;5;241m*\u001b[39margs, \u001b[38;5;241m*\u001b[39m\u001b[38;5;241m*\u001b[39mkwargs)\n\u001b[1;32m   1502\u001b[0m \u001b[38;5;66;03m# Do not call functions when jit is used\u001b[39;00m\n\u001b[1;32m   1503\u001b[0m full_backward_hooks, non_full_backward_hooks \u001b[38;5;241m=\u001b[39m [], []\n",
      "File \u001b[0;32m/proj/inductive-bias.shadow/abakalov.anaconda/envs/sae/lib/python3.11/site-packages/transformer_lens/HookedTransformer.py:561\u001b[0m, in \u001b[0;36mHookedTransformer.forward\u001b[0;34m(self, input, return_type, loss_per_token, prepend_bos, padding_side, start_at_layer, tokens, shortformer_pos_embed, attention_mask, stop_at_layer, past_kv_cache)\u001b[0m\n\u001b[1;32m    556\u001b[0m     \u001b[38;5;28;01mif\u001b[39;00m shortformer_pos_embed \u001b[38;5;129;01mis\u001b[39;00m \u001b[38;5;129;01mnot\u001b[39;00m \u001b[38;5;28;01mNone\u001b[39;00m:\n\u001b[1;32m    557\u001b[0m         shortformer_pos_embed \u001b[38;5;241m=\u001b[39m shortformer_pos_embed\u001b[38;5;241m.\u001b[39mto(\n\u001b[1;32m    558\u001b[0m             devices\u001b[38;5;241m.\u001b[39mget_device_for_block_index(i, \u001b[38;5;28mself\u001b[39m\u001b[38;5;241m.\u001b[39mcfg)\n\u001b[1;32m    559\u001b[0m         )\n\u001b[0;32m--> 561\u001b[0m     residual \u001b[38;5;241m=\u001b[39m block(\n\u001b[1;32m    562\u001b[0m         residual,\n\u001b[1;32m    563\u001b[0m         \u001b[38;5;66;03m# Cache contains a list of HookedTransformerKeyValueCache objects, one for each\u001b[39;00m\n\u001b[1;32m    564\u001b[0m         \u001b[38;5;66;03m# block\u001b[39;00m\n\u001b[1;32m    565\u001b[0m         past_kv_cache_entry\u001b[38;5;241m=\u001b[39mpast_kv_cache[i] \u001b[38;5;28;01mif\u001b[39;00m past_kv_cache \u001b[38;5;129;01mis\u001b[39;00m \u001b[38;5;129;01mnot\u001b[39;00m \u001b[38;5;28;01mNone\u001b[39;00m \u001b[38;5;28;01melse\u001b[39;00m \u001b[38;5;28;01mNone\u001b[39;00m,\n\u001b[1;32m    566\u001b[0m         shortformer_pos_embed\u001b[38;5;241m=\u001b[39mshortformer_pos_embed,\n\u001b[1;32m    567\u001b[0m         attention_mask\u001b[38;5;241m=\u001b[39mattention_mask,\n\u001b[1;32m    568\u001b[0m     )  \u001b[38;5;66;03m# [batch, pos, d_model]\u001b[39;00m\n\u001b[1;32m    570\u001b[0m \u001b[38;5;28;01mif\u001b[39;00m stop_at_layer \u001b[38;5;129;01mis\u001b[39;00m \u001b[38;5;129;01mnot\u001b[39;00m \u001b[38;5;28;01mNone\u001b[39;00m:\n\u001b[1;32m    571\u001b[0m     \u001b[38;5;66;03m# When we stop at an early layer, we end here rather than doing further computation\u001b[39;00m\n\u001b[1;32m    572\u001b[0m     \u001b[38;5;28;01mreturn\u001b[39;00m residual\n",
      "File \u001b[0;32m/proj/inductive-bias.shadow/abakalov.anaconda/envs/sae/lib/python3.11/site-packages/torch/nn/modules/module.py:1501\u001b[0m, in \u001b[0;36mModule._call_impl\u001b[0;34m(self, *args, **kwargs)\u001b[0m\n\u001b[1;32m   1496\u001b[0m \u001b[38;5;66;03m# If we don't have any hooks, we want to skip the rest of the logic in\u001b[39;00m\n\u001b[1;32m   1497\u001b[0m \u001b[38;5;66;03m# this function, and just call forward.\u001b[39;00m\n\u001b[1;32m   1498\u001b[0m \u001b[38;5;28;01mif\u001b[39;00m \u001b[38;5;129;01mnot\u001b[39;00m (\u001b[38;5;28mself\u001b[39m\u001b[38;5;241m.\u001b[39m_backward_hooks \u001b[38;5;129;01mor\u001b[39;00m \u001b[38;5;28mself\u001b[39m\u001b[38;5;241m.\u001b[39m_backward_pre_hooks \u001b[38;5;129;01mor\u001b[39;00m \u001b[38;5;28mself\u001b[39m\u001b[38;5;241m.\u001b[39m_forward_hooks \u001b[38;5;129;01mor\u001b[39;00m \u001b[38;5;28mself\u001b[39m\u001b[38;5;241m.\u001b[39m_forward_pre_hooks\n\u001b[1;32m   1499\u001b[0m         \u001b[38;5;129;01mor\u001b[39;00m _global_backward_pre_hooks \u001b[38;5;129;01mor\u001b[39;00m _global_backward_hooks\n\u001b[1;32m   1500\u001b[0m         \u001b[38;5;129;01mor\u001b[39;00m _global_forward_hooks \u001b[38;5;129;01mor\u001b[39;00m _global_forward_pre_hooks):\n\u001b[0;32m-> 1501\u001b[0m     \u001b[38;5;28;01mreturn\u001b[39;00m forward_call(\u001b[38;5;241m*\u001b[39margs, \u001b[38;5;241m*\u001b[39m\u001b[38;5;241m*\u001b[39mkwargs)\n\u001b[1;32m   1502\u001b[0m \u001b[38;5;66;03m# Do not call functions when jit is used\u001b[39;00m\n\u001b[1;32m   1503\u001b[0m full_backward_hooks, non_full_backward_hooks \u001b[38;5;241m=\u001b[39m [], []\n",
      "File \u001b[0;32m/proj/inductive-bias.shadow/abakalov.anaconda/envs/sae/lib/python3.11/site-packages/transformer_lens/components/transformer_block.py:159\u001b[0m, in \u001b[0;36mTransformerBlock.forward\u001b[0;34m(self, resid_pre, shortformer_pos_embed, past_kv_cache_entry, attention_mask)\u001b[0m\n\u001b[1;32m    152\u001b[0m     key_input \u001b[38;5;241m=\u001b[39m attn_in\n\u001b[1;32m    153\u001b[0m     value_input \u001b[38;5;241m=\u001b[39m attn_in\n\u001b[1;32m    155\u001b[0m attn_out \u001b[38;5;241m=\u001b[39m (\n\u001b[1;32m    156\u001b[0m     \u001b[38;5;66;03m# hook the residual stream states that are used to calculate the\u001b[39;00m\n\u001b[1;32m    157\u001b[0m     \u001b[38;5;66;03m# queries, keys and values, independently.\u001b[39;00m\n\u001b[1;32m    158\u001b[0m     \u001b[38;5;66;03m# Then take the layer norm of these inputs, and pass these to the attention module.\u001b[39;00m\n\u001b[0;32m--> 159\u001b[0m     \u001b[38;5;28mself\u001b[39m\u001b[38;5;241m.\u001b[39mattn(\n\u001b[1;32m    160\u001b[0m         query_input\u001b[38;5;241m=\u001b[39m\u001b[38;5;28mself\u001b[39m\u001b[38;5;241m.\u001b[39mln1(query_input)\n\u001b[1;32m    161\u001b[0m         \u001b[38;5;241m+\u001b[39m (\u001b[38;5;241m0.0\u001b[39m \u001b[38;5;28;01mif\u001b[39;00m shortformer_pos_embed \u001b[38;5;129;01mis\u001b[39;00m \u001b[38;5;28;01mNone\u001b[39;00m \u001b[38;5;28;01melse\u001b[39;00m shortformer_pos_embed),\n\u001b[1;32m    162\u001b[0m         key_input\u001b[38;5;241m=\u001b[39m\u001b[38;5;28mself\u001b[39m\u001b[38;5;241m.\u001b[39mln1(key_input)\n\u001b[1;32m    163\u001b[0m         \u001b[38;5;241m+\u001b[39m (\u001b[38;5;241m0.0\u001b[39m \u001b[38;5;28;01mif\u001b[39;00m shortformer_pos_embed \u001b[38;5;129;01mis\u001b[39;00m \u001b[38;5;28;01mNone\u001b[39;00m \u001b[38;5;28;01melse\u001b[39;00m shortformer_pos_embed),\n\u001b[1;32m    164\u001b[0m         value_input\u001b[38;5;241m=\u001b[39m\u001b[38;5;28mself\u001b[39m\u001b[38;5;241m.\u001b[39mln1(value_input),\n\u001b[1;32m    165\u001b[0m         past_kv_cache_entry\u001b[38;5;241m=\u001b[39mpast_kv_cache_entry,\n\u001b[1;32m    166\u001b[0m         attention_mask\u001b[38;5;241m=\u001b[39mattention_mask,\n\u001b[1;32m    167\u001b[0m     )\n\u001b[1;32m    168\u001b[0m )  \u001b[38;5;66;03m# [batch, pos, d_model]\u001b[39;00m\n\u001b[1;32m    169\u001b[0m \u001b[38;5;28;01mif\u001b[39;00m \u001b[38;5;28mself\u001b[39m\u001b[38;5;241m.\u001b[39mcfg\u001b[38;5;241m.\u001b[39muse_normalization_before_and_after:\n\u001b[1;32m    170\u001b[0m     \u001b[38;5;66;03m# If we use LayerNorm both before and after, then apply the second LN after the layer\u001b[39;00m\n\u001b[1;32m    171\u001b[0m     \u001b[38;5;66;03m# and before the hook. We do it before the hook so hook_attn_out captures \"that which\u001b[39;00m\n\u001b[1;32m    172\u001b[0m     \u001b[38;5;66;03m# is added to the residual stream\"\u001b[39;00m\n\u001b[1;32m    173\u001b[0m     attn_out \u001b[38;5;241m=\u001b[39m \u001b[38;5;28mself\u001b[39m\u001b[38;5;241m.\u001b[39mln1_post(attn_out)\n",
      "File \u001b[0;32m/proj/inductive-bias.shadow/abakalov.anaconda/envs/sae/lib/python3.11/site-packages/torch/nn/modules/module.py:1501\u001b[0m, in \u001b[0;36mModule._call_impl\u001b[0;34m(self, *args, **kwargs)\u001b[0m\n\u001b[1;32m   1496\u001b[0m \u001b[38;5;66;03m# If we don't have any hooks, we want to skip the rest of the logic in\u001b[39;00m\n\u001b[1;32m   1497\u001b[0m \u001b[38;5;66;03m# this function, and just call forward.\u001b[39;00m\n\u001b[1;32m   1498\u001b[0m \u001b[38;5;28;01mif\u001b[39;00m \u001b[38;5;129;01mnot\u001b[39;00m (\u001b[38;5;28mself\u001b[39m\u001b[38;5;241m.\u001b[39m_backward_hooks \u001b[38;5;129;01mor\u001b[39;00m \u001b[38;5;28mself\u001b[39m\u001b[38;5;241m.\u001b[39m_backward_pre_hooks \u001b[38;5;129;01mor\u001b[39;00m \u001b[38;5;28mself\u001b[39m\u001b[38;5;241m.\u001b[39m_forward_hooks \u001b[38;5;129;01mor\u001b[39;00m \u001b[38;5;28mself\u001b[39m\u001b[38;5;241m.\u001b[39m_forward_pre_hooks\n\u001b[1;32m   1499\u001b[0m         \u001b[38;5;129;01mor\u001b[39;00m _global_backward_pre_hooks \u001b[38;5;129;01mor\u001b[39;00m _global_backward_hooks\n\u001b[1;32m   1500\u001b[0m         \u001b[38;5;129;01mor\u001b[39;00m _global_forward_hooks \u001b[38;5;129;01mor\u001b[39;00m _global_forward_pre_hooks):\n\u001b[0;32m-> 1501\u001b[0m     \u001b[38;5;28;01mreturn\u001b[39;00m forward_call(\u001b[38;5;241m*\u001b[39margs, \u001b[38;5;241m*\u001b[39m\u001b[38;5;241m*\u001b[39mkwargs)\n\u001b[1;32m   1502\u001b[0m \u001b[38;5;66;03m# Do not call functions when jit is used\u001b[39;00m\n\u001b[1;32m   1503\u001b[0m full_backward_hooks, non_full_backward_hooks \u001b[38;5;241m=\u001b[39m [], []\n",
      "File \u001b[0;32m/proj/inductive-bias.shadow/abakalov.anaconda/envs/sae/lib/python3.11/site-packages/transformer_lens/components/abstract_attention.py:216\u001b[0m, in \u001b[0;36mAbstractAttention.forward\u001b[0;34m(self, query_input, key_input, value_input, past_kv_cache_entry, additive_attention_mask, attention_mask, position_bias)\u001b[0m\n\u001b[1;32m    213\u001b[0m     q \u001b[38;5;241m=\u001b[39m q\u001b[38;5;241m.\u001b[39mto(torch\u001b[38;5;241m.\u001b[39mfloat32)\n\u001b[1;32m    214\u001b[0m     k \u001b[38;5;241m=\u001b[39m k\u001b[38;5;241m.\u001b[39mto(torch\u001b[38;5;241m.\u001b[39mfloat32)\n\u001b[0;32m--> 216\u001b[0m attn_scores \u001b[38;5;241m=\u001b[39m \u001b[38;5;28mself\u001b[39m\u001b[38;5;241m.\u001b[39mcalculate_attention_scores(\n\u001b[1;32m    217\u001b[0m     q, k\n\u001b[1;32m    218\u001b[0m )  \u001b[38;5;66;03m# [batch, head_index, query_pos, key_pos]\u001b[39;00m\n\u001b[1;32m    220\u001b[0m \u001b[38;5;28;01mif\u001b[39;00m \u001b[38;5;28mself\u001b[39m\u001b[38;5;241m.\u001b[39mcfg\u001b[38;5;241m.\u001b[39mpositional_embedding_type \u001b[38;5;241m==\u001b[39m \u001b[38;5;124m\"\u001b[39m\u001b[38;5;124malibi\u001b[39m\u001b[38;5;124m\"\u001b[39m:\n\u001b[1;32m    221\u001b[0m     query_ctx \u001b[38;5;241m=\u001b[39m attn_scores\u001b[38;5;241m.\u001b[39msize(\u001b[38;5;241m-\u001b[39m\u001b[38;5;241m2\u001b[39m)\n",
      "File \u001b[0;32m/proj/inductive-bias.shadow/abakalov.anaconda/envs/sae/lib/python3.11/site-packages/transformer_lens/components/grouped_query_attention.py:152\u001b[0m, in \u001b[0;36mGroupedQueryAttention.calculate_attention_scores\u001b[0;34m(self, q, k)\u001b[0m\n\u001b[1;32m    137\u001b[0m \u001b[38;5;28;01mdef\u001b[39;00m \u001b[38;5;21mcalculate_attention_scores\u001b[39m(\n\u001b[1;32m    138\u001b[0m     \u001b[38;5;28mself\u001b[39m,\n\u001b[1;32m    139\u001b[0m     q: Float[torch\u001b[38;5;241m.\u001b[39mTensor, \u001b[38;5;124m\"\u001b[39m\u001b[38;5;124mbatch query_pos head_index d_head\u001b[39m\u001b[38;5;124m\"\u001b[39m],\n\u001b[1;32m    140\u001b[0m     k: Float[torch\u001b[38;5;241m.\u001b[39mTensor, \u001b[38;5;124m\"\u001b[39m\u001b[38;5;124mbatch key_pos kv_head_index d_head\u001b[39m\u001b[38;5;124m\"\u001b[39m],\n\u001b[1;32m    141\u001b[0m ) \u001b[38;5;241m-\u001b[39m\u001b[38;5;241m>\u001b[39m Float[torch\u001b[38;5;241m.\u001b[39mTensor, \u001b[38;5;124m\"\u001b[39m\u001b[38;5;124mbatch head_index query_pos key_pos\u001b[39m\u001b[38;5;124m\"\u001b[39m]:\n\u001b[1;32m    142\u001b[0m \u001b[38;5;250m    \u001b[39m\u001b[38;5;124;03m\"\"\"Calculate attention scores from Q and the unexpanded K matrix.\u001b[39;00m\n\u001b[1;32m    143\u001b[0m \u001b[38;5;124;03m    K will be expaned from [batch, pos, n_key_value_head, d_head] to [batch, pos, n_query_heads, d_head] using torch.repeat_interleave.\u001b[39;00m\n\u001b[1;32m    144\u001b[0m \n\u001b[0;32m   (...)\u001b[0m\n\u001b[1;32m    150\u001b[0m \u001b[38;5;124;03m        Float[torch.Tensor, \"batch head_index query_pos key_pos\"]: The attention scores.\u001b[39;00m\n\u001b[1;32m    151\u001b[0m \u001b[38;5;124;03m    \"\"\"\u001b[39;00m\n\u001b[0;32m--> 152\u001b[0m     k \u001b[38;5;241m=\u001b[39m torch\u001b[38;5;241m.\u001b[39mrepeat_interleave(k, dim\u001b[38;5;241m=\u001b[39m\u001b[38;5;241m2\u001b[39m, repeats\u001b[38;5;241m=\u001b[39m\u001b[38;5;28mself\u001b[39m\u001b[38;5;241m.\u001b[39mrepeat_kv_heads)\n\u001b[1;32m    153\u001b[0m     \u001b[38;5;28;01mreturn\u001b[39;00m \u001b[38;5;28msuper\u001b[39m()\u001b[38;5;241m.\u001b[39mcalculate_attention_scores(q, k)\n",
      "\u001b[0;31mKeyboardInterrupt\u001b[0m: "
     ]
    }
   ],
   "source": [
    "from utils.steering import get_arc_easy_accuracy_with_steering_multiple_hooks\n",
    "import numpy as np\n",
    "\n",
    "evaluated = []\n",
    "for num_vectors in np.logspace(0, np.log10((Xs_difference_res[0] != 0).sum()), 10, base=10., dtype=int):\n",
    "    steering_vectors_res = []\n",
    "    for activation_vector, layer in zip(Xs_difference_res, res_layers_to_invade):\n",
    "        sae, cfg_dict, _ = SAE.from_pretrained(\n",
    "            release = \"gemma-scope-2b-pt-res-canonical\",\n",
    "            sae_id = f\"layer_{layer}/width_16k/canonical\",\n",
    "            device = device\n",
    "        )\n",
    "        features = np.argsort(-activation_vector)[:num_vectors]\n",
    "        coefs = -np.sort(-activation_vector)[:num_vectors]\n",
    "        steering_vector = sum([sae.W_dec[feature] * coef for feature, coef in zip(features, coefs)])\n",
    "        steering_vectors_res.append(steering_vector)\n",
    "        break\n",
    "\n",
    "    steering_strengths = [1. for _ in range(len(steering_vectors_res))]\n",
    "    res = get_arc_easy_accuracy_with_steering_multiple_hooks(model=model, hook_points=hook_names_res, sae_context_size=1024,\n",
    "                batch_size=8, dataset_split=\"validation\", steering_vectors=steering_vectors_res,\n",
    "                steering_strengths=steering_strengths)\n",
    "    print(num_vectors, res)\n",
    "    evaluated.append(res)\n",
    "evaluated"
   ]
  },
  {
   "cell_type": "code",
   "execution_count": 38,
   "metadata": {},
   "outputs": [
    {
     "name": "stderr",
     "output_type": "stream",
     "text": [
      "72it [01:30,  1.25s/it]\n"
     ]
    },
    {
     "name": "stdout",
     "output_type": "stream",
     "text": [
      "1 (0.7157894736842105, 2.340025303656595)\n"
     ]
    },
    {
     "name": "stderr",
     "output_type": "stream",
     "text": [
      "72it [01:28,  1.22s/it]\n"
     ]
    },
    {
     "name": "stdout",
     "output_type": "stream",
     "text": [
      "1 (0.7157894736842105, 2.340025303656595)\n"
     ]
    },
    {
     "name": "stderr",
     "output_type": "stream",
     "text": [
      "72it [01:13,  1.02s/it]\n"
     ]
    },
    {
     "name": "stdout",
     "output_type": "stream",
     "text": [
      "3 (0.7157894736842105, 2.320565094027603)\n"
     ]
    },
    {
     "name": "stderr",
     "output_type": "stream",
     "text": [
      "72it [01:04,  1.11it/s]\n"
     ]
    },
    {
     "name": "stdout",
     "output_type": "stream",
     "text": [
      "6 (0.7157894736842105, 2.327725556858799)\n"
     ]
    },
    {
     "name": "stderr",
     "output_type": "stream",
     "text": [
      "72it [00:59,  1.22it/s]\n"
     ]
    },
    {
     "name": "stdout",
     "output_type": "stream",
     "text": [
      "12 (0.7140350877192982, 2.338829636155513)\n"
     ]
    },
    {
     "name": "stderr",
     "output_type": "stream",
     "text": [
      "72it [00:56,  1.27it/s]\n"
     ]
    },
    {
     "name": "stdout",
     "output_type": "stream",
     "text": [
      "23 (0.7140350877192982, 2.3339776373746104)\n"
     ]
    },
    {
     "name": "stderr",
     "output_type": "stream",
     "text": [
      "72it [00:54,  1.32it/s]\n"
     ]
    },
    {
     "name": "stdout",
     "output_type": "stream",
     "text": [
      "44 (0.7157894736842105, 2.3637214267463014)\n"
     ]
    },
    {
     "name": "stderr",
     "output_type": "stream",
     "text": [
      "72it [00:50,  1.41it/s]\n"
     ]
    },
    {
     "name": "stdout",
     "output_type": "stream",
     "text": [
      "83 (0.7210526315789474, 2.3693369095785575)\n"
     ]
    },
    {
     "name": "stderr",
     "output_type": "stream",
     "text": [
      "72it [00:49,  1.47it/s]\n"
     ]
    },
    {
     "name": "stdout",
     "output_type": "stream",
     "text": [
      "156 (0.7157894736842105, 2.3228860528845536)\n"
     ]
    },
    {
     "name": "stderr",
     "output_type": "stream",
     "text": [
      "72it [00:49,  1.46it/s]"
     ]
    },
    {
     "name": "stdout",
     "output_type": "stream",
     "text": [
      "293 (0.7157894736842105, 2.243798519435682)\n"
     ]
    },
    {
     "name": "stderr",
     "output_type": "stream",
     "text": [
      "\n"
     ]
    },
    {
     "data": {
      "text/plain": [
       "[(0.7157894736842105, 2.340025303656595),\n",
       " (0.7157894736842105, 2.340025303656595),\n",
       " (0.7157894736842105, 2.320565094027603),\n",
       " (0.7157894736842105, 2.327725556858799),\n",
       " (0.7140350877192982, 2.338829636155513),\n",
       " (0.7140350877192982, 2.3339776373746104),\n",
       " (0.7157894736842105, 2.3637214267463014),\n",
       " (0.7210526315789474, 2.3693369095785575),\n",
       " (0.7157894736842105, 2.3228860528845536),\n",
       " (0.7157894736842105, 2.243798519435682)]"
      ]
     },
     "execution_count": 38,
     "metadata": {},
     "output_type": "execute_result"
    }
   ],
   "source": [
    "from utils.steering import get_arc_easy_accuracy_with_steering_multiple_hooks\n",
    "import numpy as np\n",
    "\n",
    "evaluated = []\n",
    "for num_vectors in np.logspace(0, np.log10((lrs_res[0].coef_[0] != 0).sum()), 10, base=10., dtype=int):\n",
    "    steering_vectors_res = []\n",
    "    for lr, layer in zip(lrs_res, res_layers_to_invade):\n",
    "        sae, cfg_dict, _ = SAE.from_pretrained(\n",
    "            release = \"gemma-scope-2b-pt-res-canonical\",\n",
    "            sae_id = f\"layer_{layer}/width_16k/canonical\",\n",
    "            device = device\n",
    "        )\n",
    "        activation_vector = lr.coef_[0]\n",
    "        features = np.argsort(-activation_vector)[:num_vectors]\n",
    "        coefs = -np.sort(-activation_vector)[:num_vectors]\n",
    "        steering_vector = sum([sae.W_dec[feature] for feature, coef in zip(features, coefs)])\n",
    "        steering_vectors_res.append(steering_vector)\n",
    "        break\n",
    "\n",
    "    steering_strengths = [1. for _ in range(len(steering_vectors_res))]\n",
    "    res = get_arc_easy_accuracy_with_steering_multiple_hooks(model=model, hook_points=hook_names_res, sae_context_size=1024,\n",
    "                batch_size=8, dataset_split=\"validation\", steering_vectors=steering_vectors_res,\n",
    "                steering_strengths=steering_strengths)\n",
    "    print(num_vectors, res)\n",
    "    evaluated.append(res)\n",
    "evaluated"
   ]
  },
  {
   "cell_type": "code",
   "execution_count": 37,
   "metadata": {},
   "outputs": [],
   "source": [
    "# c = [accuracy] + [evaluated[-1][0] for _ in range(len(a) - 1)]"
   ]
  },
  {
   "cell_type": "code",
   "execution_count": 40,
   "metadata": {},
   "outputs": [
    {
     "data": {
      "image/png": "[encoded data removed]",
      "text/plain": [
       "<Figure size 800x400 with 1 Axes>"
      ]
     },
     "metadata": {},
     "output_type": "display_data"
    }
   ],
   "source": [
    "# a = [accuracy] + [e[0] for e in evaluated]\n",
    "# b = [accuracy] + [e[0] for e in evaluated]\n",
    "# b = b[:len(a)]\n",
    "# c = [accuracy] + [evaluated[-1][0] for _ in range(len(a) - 1)]\n",
    "d = [accuracy] + [e[0] for e in evaluated]\n",
    "d = d[:len(a)]\n",
    "\n",
    "import matplotlib.pyplot as plt\n",
    "fig, axs = plt.subplots(1, 1)\n",
    "fig.set_size_inches((8, 4))\n",
    "axs.plot(a, label=\"steering vector = sum of features, mean difference coefs\")\n",
    "axs.plot(b, label=\"steering vector = weighted sum of features, mean difference coefs\")\n",
    "axs.plot(d, label=\"steering vector = sum of features, lr coefs\")\n",
    "axs.plot(c, label=\"steering vector = weighted sum of features, lr coefs\")\n",
    "axs.legend()\n",
    "axs.set_xlabel(\"# features summed to create a steering vector\")\n",
    "axs.set_ylabel(\"accuracy\")\n",
    "labels = np.logspace(0, np.log10((Xs_difference_res[0] != 0).sum()), 10, base=10., dtype=int)[:len(a) - 1].tolist()\n",
    "\n",
    "axs.set_xticks(np.arange(len(a)), labels=[0] + labels)\n",
    "fig.tight_layout()\n",
    "plt.savefig(\"sum_vs_weighted_sum.png\")"
   ]
  },
  {
   "cell_type": "code",
   "execution_count": null,
   "metadata": {},
   "outputs": [],
   "source": []
  },
  {
   "cell_type": "code",
   "execution_count": null,
   "metadata": {},
   "outputs": [],
   "source": [
    "from torch.nn.functional import cosine_similarity\n",
    "\n",
    "num_vectors = 10\n",
    "\n",
    "cosine_similarities = np.zeros((len(res_layers_to_invade)))\n",
    "for activation_vector, layer in zip(Xs_difference_res, res_layers_to_invade):\n",
    "    sae, cfg_dict, _ = SAE.from_pretrained(\n",
    "        release = \"gemma-scope-2b-pt-res-canonical\",\n",
    "        sae_id = f\"layer_{layer}/width_16k/canonical\",\n",
    "        device = device\n",
    "    )\n",
    "    features = np.argsort(-activation_vector)[:num_vectors]\n",
    "    steering_vector = sum([sae.W_dec[feature] for feature in features])\n",
    "    steering_vectors_res.append(steering_vector)\n",
    "    break\n",
    "\n",
    "cosine_similarity()"
   ]
  }
 ],
 "metadata": {
  "kernelspec": {
   "display_name": "sae",
   "language": "python",
   "name": "python3"
  },
  "language_info": {
   "codemirror_mode": {
    "name": "ipython",
    "version": 3
   },
   "file_extension": ".py",
   "mimetype": "text/x-python",
   "name": "python",
   "nbconvert_exporter": "python",
   "pygments_lexer": "ipython3",
   "version": "3.11.9"
  }
 },
 "nbformat": 4,
 "nbformat_minor": 2
}
