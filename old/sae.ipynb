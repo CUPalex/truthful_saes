{
 "cells": [
  {
   "cell_type": "code",
   "execution_count": 1,
   "metadata": {},
   "outputs": [
    {
     "data": {
      "text/plain": [
       "1"
      ]
     },
     "execution_count": 1,
     "metadata": {},
     "output_type": "execute_result"
    }
   ],
   "source": [
    "import os\n",
    "import torch\n",
    "\n",
    "os.environ[\"CUDA_VISIBLE_DEVICES\"] = \"7\"\n",
    "torch.cuda.device_count()"
   ]
  },
  {
   "cell_type": "code",
   "execution_count": 2,
   "metadata": {},
   "outputs": [
    {
     "name": "stderr",
     "output_type": "stream",
     "text": [
      "/proj/inductive-bias.shadow/abakalov.anaconda/envs/sae/lib/python3.11/site-packages/tqdm/auto.py:21: TqdmWarning: IProgress not found. Please update jupyter and ipywidgets. See https://ipywidgets.readthedocs.io/en/stable/user_install.html\n",
      "  from .autonotebook import tqdm as notebook_tqdm\n",
      "WARNING:root:You tried to specify center_unembed=True for a model using logit softcap, but this can't be done! Softcapping is not invariant upon adding a constantSetting center_unembed=False instead.\n",
      "Loading checkpoint shards: 100%|██████████| 3/3 [03:42<00:00, 74.33s/it] \n",
      "WARNING:root:You are not using LayerNorm, so the writing weights can't be centered! Skipping\n"
     ]
    },
    {
     "name": "stdout",
     "output_type": "stream",
     "text": [
      "Loaded pretrained model google/gemma-2-2b into HookedTransformer\n",
      "blocks.15.attn.hook_z\n"
     ]
    }
   ],
   "source": [
    "from transformer_lens import HookedTransformer\n",
    "from sae_lens import SAE\n",
    "import torch\n",
    "from sae_lens.toolkit.pretrained_saes import get_gpt2_res_jb_saes\n",
    "\n",
    "device = \"cuda\" if torch.cuda.is_available() else \"cpu\"\n",
    "\n",
    "# get model\n",
    "model = HookedTransformer.from_pretrained(\"google/gemma-2-2b\", device = device)\n",
    "\n",
    "layer = 15\n",
    "\n",
    "# get the SAE for this layer\n",
    "sae, cfg_dict, _ = SAE.from_pretrained(\n",
    "    release = \"gemma-scope-2b-pt-att-canonical\",\n",
    "    sae_id = f\"layer_{layer}/width_16k/canonical\",\n",
    "    device = device\n",
    ")\n",
    "\n",
    "# get hook point\n",
    "hook_point = sae.cfg.hook_name\n",
    "print(hook_point)"
   ]
  },
  {
   "cell_type": "code",
   "execution_count": 3,
   "metadata": {},
   "outputs": [
    {
     "name": "stderr",
     "output_type": "stream",
     "text": [
      "71it [02:00,  1.62s/it]"
     ]
    },
    {
     "name": "stdout",
     "output_type": "stream",
     "text": [
      "torch.Size([2, 89])\n",
      "{'formatted_question': ['Which device would most likely be used to produce light energy? Choose the correct answer.\\nA. a microwave\\nB. a toaster\\nC. a radio\\nD. a laser\\nAnswer: ', 'Scientists at a local university have been studying the impact that people have on Earth. One of the areas being studied is how the burning of fossil fuels affects the environment. Which effect of fossil fuel burning have the scientists most likely evaluated? Choose the correct answer.\\nA. the formation of acid rain\\nB. the increase in runoff\\nC. the production of nitrogen-fixing bacteria\\nD. the mechanical weathering of roads\\nAnswer: '], 'correct_label': tensor([3, 0]), 'num_labels': tensor([4, 4]), 'tokens': tensor([[     0,      0,      0,      0,      0,      0,      0,      0,      0,\n",
      "              0,      0,      0,      0,      0,      0,      0,      0,      0,\n",
      "              0,      0,      0,      0,      0,      0,      0,      0,      0,\n",
      "              0,      0,      0,      0,      0,      0,      0,      0,      0,\n",
      "              0,      0,      0,      0,      0,      0,      0,      0,      0,\n",
      "              0,      0,      2,  13033,   6064,   1134,   1546,   5476,    614,\n",
      "           1671,    577,   7872,   2611,   4134, 235336,  19262,    573,   5112,\n",
      "           3448, 235265,    108, 235280, 235265,    476,  40335,    108, 235305,\n",
      "         235265,    476, 126789,    108, 235288, 235265,    476,   7752,    108,\n",
      "         235299, 235265,    476,  16503,    108,   1261, 235292, 235248],\n",
      "        [     2, 137893,    696,    476,   2813,  13435,    791,   1125,  21336,\n",
      "            573,   6418,    674,   1461,    791,    611,  10379, 235265,   3428,\n",
      "            576,    573,   4516,   1855,  14325,    603,   1368,    573,  18620,\n",
      "            576,  40086,  47043,  25416,    573,   4473, 235265,  12236,   4232,\n",
      "            576,  40086,   9719,  18620,    791,    573,  21904,   1546,   5476,\n",
      "          24828, 235336,  19262,    573,   5112,   3448, 235265,    108, 235280,\n",
      "         235265,    573,  10565,    576,   6898,   8980,    108, 235305, 235265,\n",
      "            573,   4740,    575,  61618,    108, 235288, 235265,    573,   4584,\n",
      "            576,  23584, 235290, 153056,  21920,    108, 235299, 235265,    573,\n",
      "          16801, 107608,    576,  16226,    108,   1261, 235292, 235248]])}\n"
     ]
    },
    {
     "name": "stderr",
     "output_type": "stream",
     "text": [
      "72it [02:01,  1.68s/it]\n"
     ]
    },
    {
     "data": {
      "text/plain": [
       "(0.6894736842105263, 2.13550997365985)"
      ]
     },
     "execution_count": 3,
     "metadata": {},
     "output_type": "execute_result"
    }
   ],
   "source": [
    "from utils.testing import get_arc_easy_accuracy\n",
    "\n",
    "accuracy, avg_logits_diff = get_arc_easy_accuracy(model, sae.cfg.context_size, batch_size=8, dataset_split=\"validation\")\n",
    "\n",
    "accuracy, avg_logits_diff"
   ]
  },
  {
   "cell_type": "code",
   "execution_count": 4,
   "metadata": {},
   "outputs": [
    {
     "name": "stdout",
     "output_type": "stream",
     "text": [
      "4502\n",
      "500 264\n"
     ]
    }
   ],
   "source": [
    "from datasets import load_dataset \n",
    "\n",
    "dataset = load_dataset(\n",
    "    \"allenai/ai2_arc\", \"ARC-Easy\",\n",
    "    split=\"train\",\n",
    "    streaming=False,\n",
    ")\n",
    "\n",
    "def format_examples(examples) -> dict[str, list]:\n",
    "    examples_formatted = {\"sent\": [],\n",
    "                          \"label\": []}\n",
    "    for example_question, example_choices, answer in zip(examples[\"question\"], examples[\"choices\"], examples[\"answerKey\"]):\n",
    "        have_correct_example, have_incorrect_example = False, False\n",
    "        for choice, label in zip(example_choices[\"text\"], example_choices[\"label\"]):\n",
    "            if label == answer and not have_correct_example:\n",
    "                examples_formatted[\"sent\"].append(example_question + \" \" + choice)\n",
    "                examples_formatted[\"label\"].append(\"True\")\n",
    "                have_correct_example = True\n",
    "            elif not have_incorrect_example:\n",
    "                examples_formatted[\"sent\"].append(example_question + \" \" + choice)\n",
    "                examples_formatted[\"label\"].append(\"False\")\n",
    "                have_incorrect_example = True\n",
    "    return examples_formatted\n",
    "\n",
    "probing_dataset = dataset.map(format_examples, batched=True, batch_size=8, remove_columns=dataset.column_names)\n",
    "\n",
    "print(len(probing_dataset))\n",
    "\n",
    "probing_dataset = probing_dataset.shuffle(seed=42).select(range(500))\n",
    "print(len(probing_dataset), len(probing_dataset.filter(lambda example: example[\"label\"] == \"True\")))"
   ]
  },
  {
   "cell_type": "code",
   "execution_count": 5,
   "metadata": {},
   "outputs": [
    {
     "data": {
      "text/plain": [
       "{'label': 'False',\n",
       " 'tokens': tensor([     2,  13033,   1134,   1546,   5476,    614,    573,  17930,    576,\n",
       "            671,   4018,    675,    476,   2301,   6620,    578,   2910,   5182,\n",
       "         235336,   3178,   5601,      0,      0,      0,      0,      0,      0,\n",
       "              0,      0,      0,      0,      0,      0,      0,      0,      0,\n",
       "              0,      0,      0,      0]),\n",
       " 'len_of_input': tensor(21)}"
      ]
     },
     "execution_count": 5,
     "metadata": {},
     "output_type": "execute_result"
    }
   ],
   "source": [
    "import numpy as np\n",
    "from functools import partial\n",
    "\n",
    "def tokenize(examples, column_name, tokenizer, max_length):\n",
    "        tokenizer.padding_side = \"right\"\n",
    "        text = examples[column_name]\n",
    "        tokens = tokenizer(text, return_tensors=\"np\", padding=\"longest\", max_length=max_length)[\"input_ids\"]\n",
    "        len_of_input = np.argmax(tokens == tokenizer.pad_token_id, axis=1)\n",
    "        assert (tokens[len_of_input == 0] != tokenizer.pad_token_id).all(), (len_of_input, tokens)\n",
    "        len_of_input[len_of_input == 0] = tokens.shape[1]\n",
    "        return {\"tokens\": tokens, \"len_of_input\": len_of_input}\n",
    "\n",
    "tokenized_dataset = probing_dataset.map(\n",
    "    partial(tokenize,\n",
    "    column_name = \"sent\",\n",
    "    tokenizer = model.tokenizer,\n",
    "    max_length=sae.cfg.context_size),\n",
    "    batched=True,\n",
    "    batch_size=8,\n",
    "    num_proc=None\n",
    ")\n",
    "tokenized_dataset.set_format(type=\"torch\", columns=[\"tokens\", \"label\", \"len_of_input\"])\n",
    "tokenized_dataset[0]"
   ]
  },
  {
   "cell_type": "code",
   "execution_count": 8,
   "metadata": {},
   "outputs": [
    {
     "name": "stdout",
     "output_type": "stream",
     "text": [
      "average l0 81.35897827148438\n"
     ]
    }
   ],
   "source": [
    "# sae.eval()\n",
    "\n",
    "# with torch.no_grad():\n",
    "#     batch_tokens = tokenized_dataset[0][\"tokens\"]\n",
    "#     _, cache = model.run_with_cache(batch_tokens, prepend_bos=True)\n",
    "\n",
    "#     feature_acts = sae.encode(cache[sae.cfg.hook_name])\n",
    "#     sae_out = sae.decode(feature_acts)\n",
    "\n",
    "#     del cache\n",
    "#     l0 = (feature_acts[:, 1:] > 0).float().sum(-1).detach()\n",
    "#     print(\"average l0\", l0.mean().item())"
   ]
  },
  {
   "cell_type": "code",
   "execution_count": 48,
   "metadata": {},
   "outputs": [
    {
     "name": "stderr",
     "output_type": "stream",
     "text": [
      "100%|██████████| 63/63 [00:17<00:00,  3.52it/s]\n",
      "100%|██████████| 63/63 [00:17<00:00,  3.59it/s]\n",
      "100%|██████████| 63/63 [00:18<00:00,  3.50it/s]\n",
      "100%|██████████| 63/63 [00:19<00:00,  3.16it/s]\n",
      "100%|██████████| 63/63 [00:26<00:00,  2.42it/s]\n",
      "100%|██████████| 63/63 [00:34<00:00,  1.82it/s]\n",
      "100%|██████████| 63/63 [00:30<00:00,  2.08it/s]\n",
      "100%|██████████| 63/63 [00:31<00:00,  2.00it/s]\n",
      "100%|██████████| 63/63 [00:37<00:00,  1.66it/s]\n",
      "100%|██████████| 63/63 [00:31<00:00,  1.98it/s]\n",
      "100%|██████████| 63/63 [00:32<00:00,  1.94it/s]\n",
      "100%|██████████| 63/63 [00:30<00:00,  2.10it/s]\n",
      "100%|██████████| 63/63 [00:33<00:00,  1.89it/s]\n",
      "100%|██████████| 63/63 [00:32<00:00,  1.93it/s]\n",
      "100%|██████████| 63/63 [00:33<00:00,  1.85it/s]\n",
      "100%|██████████| 63/63 [00:31<00:00,  1.98it/s]\n",
      "100%|██████████| 63/63 [00:45<00:00,  1.39it/s]\n",
      "100%|██████████| 63/63 [00:52<00:00,  1.21it/s]\n",
      "100%|██████████| 63/63 [00:42<00:00,  1.49it/s]\n",
      "100%|██████████| 63/63 [00:43<00:00,  1.44it/s]\n",
      "100%|██████████| 63/63 [00:51<00:00,  1.22it/s]\n",
      "100%|██████████| 63/63 [00:46<00:00,  1.37it/s]\n",
      "100%|██████████| 63/63 [00:45<00:00,  1.40it/s]\n",
      "100%|██████████| 63/63 [00:49<00:00,  1.26it/s]\n",
      "100%|██████████| 63/63 [00:35<00:00,  1.79it/s]\n"
     ]
    }
   ],
   "source": [
    "from tqdm import tqdm\n",
    "from torch.utils.data import DataLoader\n",
    "from sklearn.linear_model import LogisticRegression\n",
    "from sklearn.model_selection import train_test_split\n",
    "from sklearn.metrics import accuracy_score\n",
    "import numpy as np\n",
    "\n",
    "accuracies = []\n",
    "num_of_features = []\n",
    "for layer in range(0, 25):\n",
    "    # get the SAE for this layer\n",
    "    sae, cfg_dict, _ = SAE.from_pretrained(\n",
    "        release = \"gemma-scope-2b-pt-att-canonical\",\n",
    "        sae_id = f\"layer_{layer}/width_16k/canonical\",\n",
    "        device = device\n",
    "    )\n",
    "\n",
    "    # get hook point\n",
    "    hook_point = sae.cfg.hook_name\n",
    "\n",
    "    sae.eval()  # prevents error if we're expecting a dead neuron mask for who grads\n",
    "\n",
    "    correct_activations = []\n",
    "\n",
    "    dataloader = DataLoader(tokenized_dataset, batch_size=8, shuffle=False)\n",
    "\n",
    "    with torch.no_grad():\n",
    "        for batch in tqdm(dataloader):\n",
    "            batch_tokens = batch[\"tokens\"]\n",
    "            _, cache = model.run_with_cache(batch_tokens, prepend_bos=True)\n",
    "\n",
    "            feature_acts = sae.encode(cache[sae.cfg.hook_name])\n",
    "            correct_activations.append(feature_acts[np.arange(batch_tokens.shape[0]), batch[\"len_of_input\"] - 1, :].detach().cpu())\n",
    "\n",
    "            del cache\n",
    "\n",
    "    correct_activations_dataset = torch.vstack(correct_activations)\n",
    "\n",
    "    X = correct_activations_dataset.numpy()\n",
    "    y = np.array([1 if item[\"label\"] == \"True\" else -1 for item in tokenized_dataset])\n",
    "\n",
    "    X_train, X_test, y_train, y_test = train_test_split(X, y, test_size=0.33, random_state=42)\n",
    "\n",
    "    lr = LogisticRegression(penalty=\"l1\", solver=\"liblinear\").fit(X_train, y_train)\n",
    "    y_pred = lr.predict(X_test)\n",
    "    accuracies.append(accuracy_score(y_test, y_pred))\n",
    "    num_of_features.append((lr.coef_ != 0).sum())"
   ]
  },
  {
   "cell_type": "code",
   "execution_count": 50,
   "metadata": {},
   "outputs": [
    {
     "data": {
      "image/png": "[encoded data removed]",
      "text/plain": [
       "<Figure size 1500x400 with 2 Axes>"
      ]
     },
     "metadata": {},
     "output_type": "display_data"
    }
   ],
   "source": [
    "import matplotlib.pyplot as plt\n",
    "\n",
    "fig, axs = plt.subplots(1, 2)\n",
    "fig.set_size_inches((15, 4))\n",
    "axs[0].plot(accuracies)\n",
    "axs[0].set_title(\"accuracy\")\n",
    "\n",
    "axs[1].plot(num_of_features)\n",
    "axs[1].set_title(\"# non-zero features\")\n",
    "\n",
    "for i in range(2):\n",
    "    axs[i].set_xticks(np.arange(len(accuracies)), labels=np.arange(len(accuracies)))\n",
    "    if i == 1:\n",
    "        axs[i].set_xlabel(\"layer\")\n",
    "fig.tight_layout()\n",
    "plt.savefig(\"probing_accuracy_attn.png\");"
   ]
  },
  {
   "cell_type": "code",
   "execution_count": 51,
   "metadata": {},
   "outputs": [
    {
     "name": "stderr",
     "output_type": "stream",
     "text": [
      "100%|██████████| 63/63 [00:43<00:00,  1.46it/s]\n",
      "100%|██████████| 63/63 [00:35<00:00,  1.79it/s]\n",
      "100%|██████████| 63/63 [00:37<00:00,  1.70it/s]\n",
      "100%|██████████| 63/63 [00:35<00:00,  1.79it/s]\n",
      "100%|██████████| 63/63 [00:34<00:00,  1.80it/s]\n",
      "100%|██████████| 63/63 [00:33<00:00,  1.88it/s]\n",
      "100%|██████████| 63/63 [00:29<00:00,  2.13it/s]\n",
      "100%|██████████| 63/63 [00:27<00:00,  2.32it/s]\n",
      "100%|██████████| 63/63 [00:25<00:00,  2.50it/s]\n",
      "100%|██████████| 63/63 [00:27<00:00,  2.31it/s]\n",
      "100%|██████████| 63/63 [00:27<00:00,  2.28it/s]\n",
      "100%|██████████| 63/63 [00:28<00:00,  2.20it/s]\n",
      "100%|██████████| 63/63 [00:28<00:00,  2.23it/s]\n",
      "100%|██████████| 63/63 [00:24<00:00,  2.57it/s]\n",
      "100%|██████████| 63/63 [00:22<00:00,  2.75it/s]\n",
      "100%|██████████| 63/63 [00:20<00:00,  3.02it/s]\n",
      "100%|██████████| 63/63 [00:21<00:00,  2.97it/s]\n",
      "100%|██████████| 63/63 [00:19<00:00,  3.20it/s]\n",
      "100%|██████████| 63/63 [00:19<00:00,  3.25it/s]\n",
      "100%|██████████| 63/63 [00:19<00:00,  3.27it/s]\n",
      "100%|██████████| 63/63 [00:33<00:00,  1.89it/s]\n",
      "100%|██████████| 63/63 [00:40<00:00,  1.56it/s]\n",
      "100%|██████████| 63/63 [00:42<00:00,  1.50it/s]\n",
      "100%|██████████| 63/63 [00:41<00:00,  1.53it/s]\n",
      "100%|██████████| 63/63 [00:38<00:00,  1.62it/s]\n"
     ]
    }
   ],
   "source": [
    "from tqdm import tqdm\n",
    "from torch.utils.data import DataLoader\n",
    "from sklearn.linear_model import LogisticRegression\n",
    "from sklearn.model_selection import train_test_split\n",
    "from sklearn.metrics import accuracy_score\n",
    "import numpy as np\n",
    "\n",
    "accuracies_mlp = []\n",
    "num_of_features_mlp = []\n",
    "for layer in range(0, 25):\n",
    "    # get the SAE for this layer\n",
    "    sae, cfg_dict, _ = SAE.from_pretrained(\n",
    "        release = \"gemma-scope-2b-pt-mlp-canonical\",\n",
    "        sae_id = f\"layer_{layer}/width_16k/canonical\",\n",
    "        device = device\n",
    "    )\n",
    "\n",
    "    # get hook point\n",
    "    hook_point = sae.cfg.hook_name\n",
    "\n",
    "    sae.eval()  # prevents error if we're expecting a dead neuron mask for who grads\n",
    "\n",
    "    correct_activations = []\n",
    "\n",
    "    dataloader = DataLoader(tokenized_dataset, batch_size=8, shuffle=False)\n",
    "\n",
    "    with torch.no_grad():\n",
    "        for batch in tqdm(dataloader):\n",
    "            batch_tokens = batch[\"tokens\"]\n",
    "            _, cache = model.run_with_cache(batch_tokens, prepend_bos=True)\n",
    "\n",
    "            feature_acts = sae.encode(cache[sae.cfg.hook_name])\n",
    "            correct_activations.append(feature_acts[np.arange(batch_tokens.shape[0]), batch[\"len_of_input\"] - 1, :].detach().cpu())\n",
    "\n",
    "            del cache\n",
    "\n",
    "    correct_activations_dataset = torch.vstack(correct_activations)\n",
    "\n",
    "    X = correct_activations_dataset.numpy()\n",
    "    y = np.array([1 if item[\"label\"] == \"True\" else -1 for item in tokenized_dataset])\n",
    "\n",
    "    X_train, X_test, y_train, y_test = train_test_split(X, y, test_size=0.33, random_state=42)\n",
    "\n",
    "    lr = LogisticRegression(penalty=\"l1\", solver=\"liblinear\").fit(X_train, y_train)\n",
    "    y_pred = lr.predict(X_test)\n",
    "    accuracies_mlp.append(accuracy_score(y_test, y_pred))\n",
    "    num_of_features_mlp.append((lr.coef_ != 0).sum())"
   ]
  },
  {
   "cell_type": "code",
   "execution_count": 55,
   "metadata": {},
   "outputs": [
    {
     "data": {
      "image/png": "[encoded data removed]",
      "text/plain": [
       "<Figure size 1500x400 with 2 Axes>"
      ]
     },
     "metadata": {},
     "output_type": "display_data"
    }
   ],
   "source": [
    "import matplotlib.pyplot as plt\n",
    "\n",
    "fig, axs = plt.subplots(1, 2)\n",
    "fig.set_size_inches((15, 4))\n",
    "axs[0].plot(accuracies_mlp)\n",
    "axs[0].set_title(\"accuracy\")\n",
    "\n",
    "axs[1].plot(num_of_features_mlp)\n",
    "axs[1].set_title(\"# non-zero features\")\n",
    "\n",
    "for i in range(2):\n",
    "    axs[i].set_xticks(np.arange(len(accuracies)), labels=np.arange(len(accuracies)))\n",
    "    if i == 1:\n",
    "        axs[i].set_xlabel(\"layer\")\n",
    "fig.tight_layout()\n",
    "plt.savefig(\"probing_accuracy_mlp.png\");"
   ]
  },
  {
   "cell_type": "code",
   "execution_count": null,
   "metadata": {},
   "outputs": [],
   "source": []
  },
  {
   "cell_type": "code",
   "execution_count": 86,
   "metadata": {},
   "outputs": [
    {
     "data": {
      "text/plain": [
       "<module 'utils.steering' from '/project/inductive-bias/llama/sae/utils/steering.py'>"
      ]
     },
     "execution_count": 86,
     "metadata": {},
     "output_type": "execute_result"
    }
   ],
   "source": [
    "from importlib import reload\n",
    "import utils.steering\n",
    "import utils.get_steering_vector\n",
    "import utils.dataset\n",
    "import utils.testing\n",
    "\n",
    "# reload(utils.get_steering_vector)\n",
    "reload(utils.steering)\n",
    "# reload(utils.dataset)\n",
    "# reload(utils.testing)"
   ]
  },
  {
   "cell_type": "code",
   "execution_count": 6,
   "metadata": {},
   "outputs": [],
   "source": [
    "# [layer for layer in range(len(accuracies)) if accuracies[layer] > 0.65]\n",
    "\n",
    "attn_layers_to_invade = [7, 11, 12, 14, 15]"
   ]
  },
  {
   "cell_type": "code",
   "execution_count": 7,
   "metadata": {},
   "outputs": [],
   "source": [
    "# [layer for layer in range(len(accuracies)) if accuracies_mlp[layer] > 0.65]\n",
    "\n",
    "mlp_layers_to_invade = [11, 15]"
   ]
  },
  {
   "cell_type": "code",
   "execution_count": 77,
   "metadata": {},
   "outputs": [],
   "source": [
    "layers_to_invade_attn = [layer for layer in range(len(accuracies)) if accuracies[layer] > 0.65]"
   ]
  },
  {
   "cell_type": "code",
   "execution_count": 8,
   "metadata": {},
   "outputs": [
    {
     "name": "stderr",
     "output_type": "stream",
     "text": [
      "100%|██████████| 63/63 [00:36<00:00,  1.72it/s]\n",
      "100%|██████████| 63/63 [00:36<00:00,  1.72it/s]\n",
      "100%|██████████| 63/63 [00:32<00:00,  1.95it/s]\n",
      "100%|██████████| 63/63 [00:37<00:00,  1.68it/s]\n",
      "100%|██████████| 63/63 [00:30<00:00,  2.08it/s]\n",
      "100%|██████████| 5/5 [03:22<00:00, 40.50s/it]\n"
     ]
    }
   ],
   "source": [
    "from utils.get_steering_vector import get_steering_vectors_lr_and_mean_diff\n",
    "\n",
    "Xs_difference, lrs, hook_names = get_steering_vectors_lr_and_mean_diff(model=model, layers_to_invade=attn_layers_to_invade,\n",
    "                                                                       device=\"cuda\",\n",
    "                                                                       tokenized_dataset=tokenized_dataset, batch_size=8, type_of_activation=\"att\")"
   ]
  },
  {
   "cell_type": "code",
   "execution_count": 9,
   "metadata": {},
   "outputs": [
    {
     "name": "stderr",
     "output_type": "stream",
     "text": [
      "100%|██████████| 63/63 [00:33<00:00,  1.90it/s]\n",
      "100%|██████████| 63/63 [00:29<00:00,  2.15it/s]\n",
      "100%|██████████| 2/2 [01:16<00:00, 38.13s/it]\n"
     ]
    }
   ],
   "source": [
    "from utils.get_steering_vector import get_steering_vectors_lr_and_mean_diff\n",
    "\n",
    "Xs_difference_mlp, lrs_mlp, hook_names_mlp = get_steering_vectors_lr_and_mean_diff(model=model, layers_to_invade=mlp_layers_to_invade,\n",
    "                                                                       device=\"cuda\",\n",
    "                                                                       tokenized_dataset=tokenized_dataset, batch_size=8, type_of_activation=\"mlp\")"
   ]
  },
  {
   "cell_type": "code",
   "execution_count": 26,
   "metadata": {},
   "outputs": [
    {
     "name": "stderr",
     "output_type": "stream",
     "text": [
      "100%|██████████| 63/63 [00:48<00:00,  1.30it/s]\n",
      "100%|██████████| 63/63 [00:47<00:00,  1.31it/s]\n",
      "100%|██████████| 63/63 [00:45<00:00,  1.38it/s]\n",
      "100%|██████████| 63/63 [00:44<00:00,  1.40it/s]\n",
      "100%|██████████| 63/63 [00:42<00:00,  1.49it/s]\n",
      "100%|██████████| 5/5 [04:18<00:00, 51.77s/it]\n"
     ]
    }
   ],
   "source": [
    "from utils.get_steering_vector import get_steering_vectors_lr_and_mean_diff\n",
    "\n",
    "res_layers_to_invade = [9, 10, 11, 13, 15]\n",
    "Xs_difference_res, lrs_res, hook_names_res = get_steering_vectors_lr_and_mean_diff(model=model, layers_to_invade=res_layers_to_invade,\n",
    "                                                                       device=\"cuda\",\n",
    "                                                                       tokenized_dataset=tokenized_dataset, batch_size=8, type_of_activation=\"res\")"
   ]
  },
  {
   "cell_type": "code",
   "execution_count": 27,
   "metadata": {},
   "outputs": [
    {
     "data": {
      "text/plain": [
       "array([  964,  1435, 13081, 15550,  3919, 12490,  6931,  8686, 12856,\n",
       "        8379])"
      ]
     },
     "execution_count": 27,
     "metadata": {},
     "output_type": "execute_result"
    }
   ],
   "source": [
    "# np.argsort(-Xs_difference_res[0])[:10]\n",
    "# 964: point,\n",
    "# 1435: licence\n",
    "# 13081: many things\n",
    "# 15550: something about the task structure, terms related to military or geological contexts and measurements\n",
    "# 3919: many things, contexts related to dietary habits and health effects\n",
    "# 12490: bos token, induction head?, structured coding patterns or programming syntax\n",
    "# 6931: checical reactions\n",
    "# 8686: sun,\n",
    "# 12856: descriptions of processes involving technology and improvements in methodologies\n",
    "# 8379: concepts related to energy, work, and thermodynamics in physical systems:\n",
    "\n",
    "[  964,  1435, 13081, 15550,  3919, 12490,  6931,  8686, 12856, 8379]"
   ]
  },
  {
   "cell_type": "code",
   "execution_count": 34,
   "metadata": {},
   "outputs": [
    {
     "name": "stderr",
     "output_type": "stream",
     "text": [
      "72it [02:38,  2.20s/it]\n"
     ]
    },
    {
     "name": "stdout",
     "output_type": "stream",
     "text": [
      "0.0 (0.6894736842105263, 2.13550997365985)\n"
     ]
    },
    {
     "name": "stderr",
     "output_type": "stream",
     "text": [
      "72it [01:44,  1.45s/it]\n"
     ]
    },
    {
     "name": "stdout",
     "output_type": "stream",
     "text": [
      "0.25 (0.6912280701754386, 2.1384756749136407)\n"
     ]
    },
    {
     "name": "stderr",
     "output_type": "stream",
     "text": [
      "72it [01:51,  1.55s/it]\n"
     ]
    },
    {
     "name": "stdout",
     "output_type": "stream",
     "text": [
      "0.5 (0.6912280701754386, 2.13833211932266)\n"
     ]
    },
    {
     "name": "stderr",
     "output_type": "stream",
     "text": [
      "72it [01:46,  1.47s/it]\n"
     ]
    },
    {
     "name": "stdout",
     "output_type": "stream",
     "text": [
      "0.75 (0.6912280701754386, 2.135095766970986)\n"
     ]
    },
    {
     "name": "stderr",
     "output_type": "stream",
     "text": [
      "72it [01:43,  1.43s/it]"
     ]
    },
    {
     "name": "stdout",
     "output_type": "stream",
     "text": [
      "1.0 (0.6929824561403509, 2.1285350046659772)\n"
     ]
    },
    {
     "name": "stderr",
     "output_type": "stream",
     "text": [
      "\n"
     ]
    },
    {
     "data": {
      "text/plain": [
       "[(0.6894736842105263, 2.13550997365985),\n",
       " (0.6912280701754386, 2.1384756749136407),\n",
       " (0.6912280701754386, 2.13833211932266),\n",
       " (0.6912280701754386, 2.135095766970986),\n",
       " (0.6929824561403509, 2.1285350046659772)]"
      ]
     },
     "execution_count": 34,
     "metadata": {},
     "output_type": "execute_result"
    }
   ],
   "source": [
    "from utils.steering import get_arc_easy_accuracy_with_steering_multiple_hooks\n",
    "steering_vectors = []\n",
    "# for activation_vector, layer in zip(Xs_difference, attn_layers_to_invade):\n",
    "#     sae, cfg_dict, _ = SAE.from_pretrained(\n",
    "#         release = \"gemma-scope-2b-pt-att-canonical\",\n",
    "#         sae_id = f\"layer_{layer}/width_16k/canonical\",\n",
    "#         device = device\n",
    "#     )\n",
    "#     features = activation_vector.nonzero()[0]\n",
    "#     steering_vector = sum([sae.W_dec[feature] * coef for feature, coef in zip(features, activation_vector[activation_vector.nonzero()[0]])])\n",
    "#     steering_vectors.append(steering_vector)\n",
    "\n",
    "steering_vectors_mlp = []\n",
    "# for activation_vector, layer in zip(Xs_difference_mlp, mlp_layers_to_invade):\n",
    "#     sae, cfg_dict, _ = SAE.from_pretrained(\n",
    "#         release = \"gemma-scope-2b-pt-mlp-canonical\",\n",
    "#         sae_id = f\"layer_{layer}/width_16k/canonical\",\n",
    "#         device = device\n",
    "#     )\n",
    "#     features = activation_vector.nonzero()[0]\n",
    "#     steering_vector = sum([sae.W_dec[feature] * coef for feature, coef in zip(features, activation_vector[activation_vector.nonzero()[0]])])\n",
    "#     steering_vectors_mlp.append(steering_vector)\n",
    "\n",
    "steering_vectors_res = []\n",
    "for activation_vector, layer in zip(Xs_difference_res, res_layers_to_invade):\n",
    "    sae, cfg_dict, _ = SAE.from_pretrained(\n",
    "        release = \"gemma-scope-2b-pt-res-canonical\",\n",
    "        sae_id = f\"layer_{layer}/width_16k/canonical\",\n",
    "        device = device\n",
    "    )\n",
    "    features = np.argsort(-activation_vector)[:10]\n",
    "    # coefs = -np.sort(-activation_vector)\n",
    "    steering_vector = sum([sae.W_dec[feature] for feature in features])\n",
    "    steering_vectors_res.append(steering_vector)\n",
    "    break\n",
    "\n",
    "evaluated = []\n",
    "for strength in np.linspace(0, 1, 5):\n",
    "    steering_strengths = [strength for _ in range(len(steering_vectors) + len(steering_vectors_mlp) + len(steering_vectors_res))]\n",
    "    res = get_arc_easy_accuracy_with_steering_multiple_hooks(model=model, hook_points=hook_names+hook_names_mlp+hook_names_res, sae_context_size=1024,\n",
    "                batch_size=8, dataset_split=\"validation\", steering_vectors=steering_vectors+steering_vectors_mlp+steering_vectors_res,\n",
    "                steering_strengths=steering_strengths)\n",
    "    print(strength, res)\n",
    "    evaluated.append(res)\n",
    "evaluated"
   ]
  },
  {
   "cell_type": "code",
   "execution_count": 28,
   "metadata": {},
   "outputs": [
    {
     "name": "stderr",
     "output_type": "stream",
     "text": [
      "72it [01:41,  1.41s/it]\n"
     ]
    },
    {
     "name": "stdout",
     "output_type": "stream",
     "text": [
      "0.0 (0.6894736842105263, 2.13550997365985)\n"
     ]
    },
    {
     "name": "stderr",
     "output_type": "stream",
     "text": [
      "72it [01:41,  1.42s/it]\n"
     ]
    },
    {
     "name": "stdout",
     "output_type": "stream",
     "text": [
      "0.25 (0.6947368421052632, 2.1254652910065235)\n"
     ]
    },
    {
     "name": "stderr",
     "output_type": "stream",
     "text": [
      "72it [01:38,  1.37s/it]\n"
     ]
    },
    {
     "name": "stdout",
     "output_type": "stream",
     "text": [
      "0.5 (0.6894736842105263, 2.0996636733674165)\n"
     ]
    },
    {
     "name": "stderr",
     "output_type": "stream",
     "text": [
      "72it [01:37,  1.36s/it]\n"
     ]
    },
    {
     "name": "stdout",
     "output_type": "stream",
     "text": [
      "0.75 (0.6929824561403509, 2.059404564740365)\n"
     ]
    },
    {
     "name": "stderr",
     "output_type": "stream",
     "text": [
      "72it [01:28,  1.23s/it]"
     ]
    },
    {
     "name": "stdout",
     "output_type": "stream",
     "text": [
      "1.0 (0.6929824561403509, 2.0042639493942263)\n"
     ]
    },
    {
     "name": "stderr",
     "output_type": "stream",
     "text": [
      "\n"
     ]
    },
    {
     "data": {
      "text/plain": [
       "[(0.6894736842105263, 2.13550997365985),\n",
       " (0.6947368421052632, 2.1254652910065235),\n",
       " (0.6894736842105263, 2.0996636733674165),\n",
       " (0.6929824561403509, 2.059404564740365),\n",
       " (0.6929824561403509, 2.0042639493942263)]"
      ]
     },
     "execution_count": 28,
     "metadata": {},
     "output_type": "execute_result"
    }
   ],
   "source": [
    "from utils.steering import get_arc_easy_accuracy_with_steering_multiple_hooks\n",
    "steering_vectors = []\n",
    "# for activation_vector, layer in zip(Xs_difference, attn_layers_to_invade):\n",
    "#     sae, cfg_dict, _ = SAE.from_pretrained(\n",
    "#         release = \"gemma-scope-2b-pt-att-canonical\",\n",
    "#         sae_id = f\"layer_{layer}/width_16k/canonical\",\n",
    "#         device = device\n",
    "#     )\n",
    "#     features = activation_vector.nonzero()[0]\n",
    "#     steering_vector = sum([sae.W_dec[feature] * coef for feature, coef in zip(features, activation_vector[activation_vector.nonzero()[0]])])\n",
    "#     steering_vectors.append(steering_vector)\n",
    "\n",
    "steering_vectors_mlp = []\n",
    "# for activation_vector, layer in zip(Xs_difference_mlp, mlp_layers_to_invade):\n",
    "#     sae, cfg_dict, _ = SAE.from_pretrained(\n",
    "#         release = \"gemma-scope-2b-pt-mlp-canonical\",\n",
    "#         sae_id = f\"layer_{layer}/width_16k/canonical\",\n",
    "#         device = device\n",
    "#     )\n",
    "#     features = activation_vector.nonzero()[0]\n",
    "#     steering_vector = sum([sae.W_dec[feature] * coef for feature, coef in zip(features, activation_vector[activation_vector.nonzero()[0]])])\n",
    "#     steering_vectors_mlp.append(steering_vector)\n",
    "\n",
    "steering_vectors_res = []\n",
    "for activation_vector, layer in zip(Xs_difference_res, res_layers_to_invade):\n",
    "    sae, cfg_dict, _ = SAE.from_pretrained(\n",
    "        release = \"gemma-scope-2b-pt-res-canonical\",\n",
    "        sae_id = f\"layer_{layer}/width_16k/canonical\",\n",
    "        device = device\n",
    "    )\n",
    "    features = np.argsort(-activation_vector)[:10]\n",
    "    coefs = -np.sort(-activation_vector)[:10]\n",
    "    steering_vector = sum([sae.W_dec[feature] * coef for feature, coef in zip(features, coefs)])\n",
    "    steering_vectors_res.append(steering_vector)\n",
    "\n",
    "evaluated = []\n",
    "for strength in np.linspace(0, 1, 5):\n",
    "    steering_strengths = [strength for _ in range(len(steering_vectors) + len(steering_vectors_mlp) + len(steering_vectors_res))]\n",
    "    res = get_arc_easy_accuracy_with_steering_multiple_hooks(model=model, hook_points=hook_names+hook_names_mlp+hook_names_res, sae_context_size=1024,\n",
    "                batch_size=8, dataset_split=\"validation\", steering_vectors=steering_vectors+steering_vectors_mlp+steering_vectors_res,\n",
    "                steering_strengths=steering_strengths)\n",
    "    print(strength, res)\n",
    "    evaluated.append(res)\n",
    "evaluated"
   ]
  },
  {
   "cell_type": "code",
   "execution_count": 71,
   "metadata": {},
   "outputs": [
    {
     "data": {
      "text/plain": [
       "(4770,)"
      ]
     },
     "execution_count": 71,
     "metadata": {},
     "output_type": "execute_result"
    }
   ],
   "source": [
    "Xs_difference[0].nonzero()[0]"
   ]
  },
  {
   "cell_type": "code",
   "execution_count": 10,
   "metadata": {},
   "outputs": [
    {
     "name": "stderr",
     "output_type": "stream",
     "text": [
      "72it [01:08,  1.05it/s]\n"
     ]
    },
    {
     "name": "stdout",
     "output_type": "stream",
     "text": [
      "0.0 (0.6894736842105263, 2.13550997365985)\n"
     ]
    },
    {
     "name": "stderr",
     "output_type": "stream",
     "text": [
      "72it [01:03,  1.13it/s]\n"
     ]
    },
    {
     "name": "stdout",
     "output_type": "stream",
     "text": [
      "0.25 (0.6912280701754386, 2.137697009872972)\n"
     ]
    },
    {
     "name": "stderr",
     "output_type": "stream",
     "text": [
      "72it [00:54,  1.31it/s]\n"
     ]
    },
    {
     "name": "stdout",
     "output_type": "stream",
     "text": [
      "0.5 (0.6929824561403509, 2.1358905122991194)\n"
     ]
    },
    {
     "name": "stderr",
     "output_type": "stream",
     "text": [
      "72it [00:53,  1.34it/s]\n"
     ]
    },
    {
     "name": "stdout",
     "output_type": "stream",
     "text": [
      "0.75 (0.6947368421052632, 2.130352436868768)\n"
     ]
    },
    {
     "name": "stderr",
     "output_type": "stream",
     "text": [
      "72it [00:52,  1.38it/s]"
     ]
    },
    {
     "name": "stdout",
     "output_type": "stream",
     "text": [
      "1.0 (0.6964912280701754, 2.1209033045852395)\n"
     ]
    },
    {
     "name": "stderr",
     "output_type": "stream",
     "text": [
      "\n"
     ]
    },
    {
     "data": {
      "text/plain": [
       "[(0.6894736842105263, 2.13550997365985),\n",
       " (0.6912280701754386, 2.137697009872972),\n",
       " (0.6929824561403509, 2.1358905122991194),\n",
       " (0.6947368421052632, 2.130352436868768),\n",
       " (0.6964912280701754, 2.1209033045852395)]"
      ]
     },
     "execution_count": 10,
     "metadata": {},
     "output_type": "execute_result"
    }
   ],
   "source": [
    "from utils.steering import get_arc_easy_accuracy_with_steering_multiple_hooks\n",
    "steering_vectors = []\n",
    "for activation_vector, layer in zip(Xs_difference, attn_layers_to_invade):\n",
    "    sae, cfg_dict, _ = SAE.from_pretrained(\n",
    "        release = \"gemma-scope-2b-pt-att-canonical\",\n",
    "        sae_id = f\"layer_{layer}/width_16k/canonical\",\n",
    "        device = device\n",
    "    )\n",
    "    features = activation_vector.nonzero()[0]\n",
    "    steering_vector = sum([sae.W_dec[feature] * coef for feature, coef in zip(features, activation_vector[activation_vector.nonzero()[0]])])\n",
    "    steering_vectors.append(steering_vector)\n",
    "\n",
    "steering_vectors_mlp = []\n",
    "for activation_vector, layer in zip(Xs_difference_mlp, mlp_layers_to_invade):\n",
    "    sae, cfg_dict, _ = SAE.from_pretrained(\n",
    "        release = \"gemma-scope-2b-pt-mlp-canonical\",\n",
    "        sae_id = f\"layer_{layer}/width_16k/canonical\",\n",
    "        device = device\n",
    "    )\n",
    "    features = activation_vector.nonzero()[0]\n",
    "    steering_vector = sum([sae.W_dec[feature] * coef for feature, coef in zip(features, activation_vector[activation_vector.nonzero()[0]])])\n",
    "    steering_vectors_mlp.append(steering_vector)\n",
    "\n",
    "evaluated = []\n",
    "for strength in np.linspace(0, 1, 5):\n",
    "    steering_strengths = [strength for _ in range(len(steering_vectors) + len(steering_vectors_mlp))]\n",
    "    res = get_arc_easy_accuracy_with_steering_multiple_hooks(model=model, hook_points=hook_names+hook_names_mlp, sae_context_size=1024,\n",
    "                batch_size=8, dataset_split=\"validation\", steering_vectors=steering_vectors+steering_vectors_mlp, steering_strengths=steering_strengths)\n",
    "    print(strength, res)\n",
    "    evaluated.append(res)\n",
    "evaluated"
   ]
  },
  {
   "cell_type": "code",
   "execution_count": 20,
   "metadata": {},
   "outputs": [
    {
     "data": {
      "text/plain": [
       "array([ 3812,  3126,  5790,  3005,  1205,  3505,  5201,  1754,  3145,\n",
       "       14417,  8489,  1948,  8658, 11687,  1217,  7584,  6027,  3987,\n",
       "       13394,  7063, 13799, 11956,  7528,  7957,  1856, 14067,  1725,\n",
       "        2714,  6748,  4291,  8608, 13652, 15216,  1324, 16061,  2561,\n",
       "       13470,  4129, 15416,  5603])"
      ]
     },
     "execution_count": 20,
     "metadata": {},
     "output_type": "execute_result"
    }
   ],
   "source": [
    "np.argsort(-Xs_difference[0])[:40]"
   ]
  },
  {
   "cell_type": "code",
   "execution_count": 18,
   "metadata": {},
   "outputs": [
    {
     "data": {
      "text/plain": [
       "7"
      ]
     },
     "execution_count": 18,
     "metadata": {},
     "output_type": "execute_result"
    }
   ],
   "source": [
    "attn_layers_to_invade[0]"
   ]
  },
  {
   "cell_type": "code",
   "execution_count": null,
   "metadata": {},
   "outputs": [],
   "source": [
    "from utils.steering import get_arc_easy_accuracy_with_steering_multiple_hooks\n",
    "top_k = 100\n",
    "\n",
    "steering_vectors = []\n",
    "for activation_vector, layer in zip(Xs_difference, attn_layers_to_invade):\n",
    "    sae, cfg_dict, _ = SAE.from_pretrained(\n",
    "        release = \"gemma-scope-2b-pt-att-canonical\",\n",
    "        sae_id = f\"layer_{layer}/width_16k/canonical\",\n",
    "        device = device\n",
    "    )\n",
    "    features = np.argsort(-activation_vector)[:top_k]\n",
    "    steering_vector = sum([sae.W_dec[feature] for feature in features])\n",
    "    steering_vectors.append(steering_vector)\n",
    "\n",
    "steering_vectors_mlp = []\n",
    "# for activation_vector, layer in zip(Xs_difference_mlp, mlp_layers_to_invade):\n",
    "#     sae, cfg_dict, _ = SAE.from_pretrained(\n",
    "#         release = \"gemma-scope-2b-pt-mlp-canonical\",\n",
    "#         sae_id = f\"layer_{layer}/width_16k/canonical\",\n",
    "#         device = device\n",
    "#     )\n",
    "#     features = activation_vector.nonzero()[0]\n",
    "#     steering_vector = sum([sae.W_dec[feature] for feature, coef in zip(features, activation_vector[activation_vector.nonzero()[0]])])\n",
    "#     steering_vectors_mlp.append(steering_vector)\n",
    "\n",
    "evaluated = []\n",
    "for strength in np.linspace(0, 1, 5):\n",
    "    steering_strengths = [strength for _ in range(len(steering_vectors) + len(steering_vectors_mlp))]\n",
    "    res = get_arc_easy_accuracy_with_steering_multiple_hooks(model=model, hook_points=hook_names+hook_names_mlp, sae_context_size=1024,\n",
    "                batch_size=8, dataset_split=\"validation\", steering_vectors=steering_vectors+steering_vectors_mlp, steering_strengths=steering_strengths)\n",
    "    print(strength, res)\n",
    "    evaluated.append(res)\n",
    "evaluated"
   ]
  },
  {
   "cell_type": "code",
   "execution_count": 35,
   "metadata": {},
   "outputs": [
    {
     "data": {
      "text/plain": [
       "<module 'utils.steering' from '/project/inductive-bias/llama/sae/utils/steering.py'>"
      ]
     },
     "execution_count": 35,
     "metadata": {},
     "output_type": "execute_result"
    }
   ],
   "source": [
    "from importlib import reload\n",
    "import utils.steering\n",
    "import utils.get_steering_vector\n",
    "import utils.dataset\n",
    "import utils.testing\n",
    "\n",
    "# reload(utils.get_steering_vector)\n",
    "\n",
    "reload(utils.steering)\n",
    "# reload(utils.dataset)\n",
    "# reload(utils.testing)"
   ]
  },
  {
   "cell_type": "code",
   "execution_count": 6,
   "metadata": {},
   "outputs": [
    {
     "name": "stderr",
     "output_type": "stream",
     "text": [
      "100%|██████████| 63/63 [00:17<00:00,  3.57it/s]\n",
      "/proj/inductive-bias.shadow/abakalov.anaconda/envs/sae/lib/python3.11/site-packages/sklearn/linear_model/_logistic.py:469: ConvergenceWarning: lbfgs failed to converge (status=1):\n",
      "STOP: TOTAL NO. of ITERATIONS REACHED LIMIT.\n",
      "\n",
      "Increase the number of iterations (max_iter) or scale the data as shown in:\n",
      "    https://scikit-learn.org/stable/modules/preprocessing.html\n",
      "Please also refer to the documentation for alternative solver options:\n",
      "    https://scikit-learn.org/stable/modules/linear_model.html#logistic-regression\n",
      "  n_iter_i = _check_optimize_result(\n",
      "100%|██████████| 63/63 [00:18<00:00,  3.42it/s]\n",
      "/proj/inductive-bias.shadow/abakalov.anaconda/envs/sae/lib/python3.11/site-packages/sklearn/linear_model/_logistic.py:469: ConvergenceWarning: lbfgs failed to converge (status=1):\n",
      "STOP: TOTAL NO. of ITERATIONS REACHED LIMIT.\n",
      "\n",
      "Increase the number of iterations (max_iter) or scale the data as shown in:\n",
      "    https://scikit-learn.org/stable/modules/preprocessing.html\n",
      "Please also refer to the documentation for alternative solver options:\n",
      "    https://scikit-learn.org/stable/modules/linear_model.html#logistic-regression\n",
      "  n_iter_i = _check_optimize_result(\n",
      "100%|██████████| 63/63 [00:17<00:00,  3.52it/s]\n",
      "/proj/inductive-bias.shadow/abakalov.anaconda/envs/sae/lib/python3.11/site-packages/sklearn/linear_model/_logistic.py:469: ConvergenceWarning: lbfgs failed to converge (status=1):\n",
      "STOP: TOTAL NO. of ITERATIONS REACHED LIMIT.\n",
      "\n",
      "Increase the number of iterations (max_iter) or scale the data as shown in:\n",
      "    https://scikit-learn.org/stable/modules/preprocessing.html\n",
      "Please also refer to the documentation for alternative solver options:\n",
      "    https://scikit-learn.org/stable/modules/linear_model.html#logistic-regression\n",
      "  n_iter_i = _check_optimize_result(\n",
      "100%|██████████| 63/63 [00:17<00:00,  3.58it/s]\n",
      "/proj/inductive-bias.shadow/abakalov.anaconda/envs/sae/lib/python3.11/site-packages/sklearn/linear_model/_logistic.py:469: ConvergenceWarning: lbfgs failed to converge (status=1):\n",
      "STOP: TOTAL NO. of ITERATIONS REACHED LIMIT.\n",
      "\n",
      "Increase the number of iterations (max_iter) or scale the data as shown in:\n",
      "    https://scikit-learn.org/stable/modules/preprocessing.html\n",
      "Please also refer to the documentation for alternative solver options:\n",
      "    https://scikit-learn.org/stable/modules/linear_model.html#logistic-regression\n",
      "  n_iter_i = _check_optimize_result(\n",
      "100%|██████████| 63/63 [00:17<00:00,  3.55it/s]\n",
      "100%|██████████| 63/63 [00:17<00:00,  3.62it/s]\n",
      "100%|██████████| 63/63 [00:17<00:00,  3.54it/s]\n",
      "100%|██████████| 63/63 [00:17<00:00,  3.53it/s]\n",
      "100%|██████████| 63/63 [00:17<00:00,  3.51it/s]\n",
      "100%|██████████| 63/63 [00:18<00:00,  3.43it/s]\n",
      "100%|██████████| 63/63 [00:18<00:00,  3.44it/s]\n",
      "100%|██████████| 63/63 [00:18<00:00,  3.49it/s]\n",
      "100%|██████████| 63/63 [00:18<00:00,  3.48it/s]\n",
      "100%|██████████| 63/63 [00:17<00:00,  3.55it/s]\n",
      "100%|██████████| 63/63 [00:17<00:00,  3.52it/s]\n",
      "100%|██████████| 63/63 [00:18<00:00,  3.33it/s]\n",
      "100%|██████████| 63/63 [00:18<00:00,  3.43it/s]\n",
      "100%|██████████| 63/63 [00:17<00:00,  3.53it/s]\n",
      "100%|██████████| 63/63 [00:17<00:00,  3.56it/s]\n",
      "100%|██████████| 63/63 [00:17<00:00,  3.53it/s]\n",
      "100%|██████████| 63/63 [00:18<00:00,  3.42it/s]\n",
      "100%|██████████| 63/63 [00:17<00:00,  3.58it/s]\n",
      "100%|██████████| 63/63 [00:17<00:00,  3.56it/s]\n",
      "100%|██████████| 63/63 [00:18<00:00,  3.32it/s]\n",
      "100%|██████████| 63/63 [00:18<00:00,  3.49it/s]\n"
     ]
    }
   ],
   "source": [
    "# from tqdm import tqdm\n",
    "# from torch.utils.data import DataLoader\n",
    "# from sklearn.linear_model import LogisticRegression\n",
    "# from sklearn.model_selection import train_test_split\n",
    "# from sklearn.metrics import accuracy_score\n",
    "# import numpy as np\n",
    "\n",
    "# accuracies = {\n",
    "#     \"l1\": [],\n",
    "#     \"l2\": []\n",
    "# }\n",
    "# num_of_features = {\n",
    "#     \"l1\": [],\n",
    "#     \"l2\": []\n",
    "# }\n",
    "# for layer in range(0, 25):\n",
    "#     # get the SAE for this layer\n",
    "#     sae, cfg_dict, _ = SAE.from_pretrained(\n",
    "#         release = \"gemma-scope-2b-pt-res-canonical\",\n",
    "#         sae_id = f\"layer_{layer}/width_16k/canonical\",\n",
    "#         device = device\n",
    "#     )\n",
    "\n",
    "#     # get hook point\n",
    "#     hook_point = sae.cfg.hook_name\n",
    "\n",
    "#     sae.eval()  # prevents error if we're expecting a dead neuron mask for who grads\n",
    "\n",
    "#     correct_activations = []\n",
    "\n",
    "#     dataloader = DataLoader(tokenized_dataset, batch_size=8, shuffle=False)\n",
    "\n",
    "#     with torch.no_grad():\n",
    "#         for batch in tqdm(dataloader):\n",
    "#             batch_tokens = batch[\"tokens\"]\n",
    "#             _, cache = model.run_with_cache(batch_tokens, prepend_bos=True)\n",
    "\n",
    "#             feature_acts = sae.encode(cache[sae.cfg.hook_name])\n",
    "#             correct_activations.append(feature_acts[np.arange(batch_tokens.shape[0]), batch[\"len_of_input\"] - 1, :].detach().cpu())\n",
    "\n",
    "#             del cache\n",
    "\n",
    "#     correct_activations_dataset = torch.vstack(correct_activations)\n",
    "\n",
    "#     X = correct_activations_dataset.numpy()\n",
    "#     y = np.array([1 if item[\"label\"] == \"True\" else -1 for item in tokenized_dataset])\n",
    "\n",
    "#     X_train, X_test, y_train, y_test = train_test_split(X, y, test_size=0.33, random_state=42)\n",
    "\n",
    "#     lr = LogisticRegression(penalty=\"l1\", solver=\"liblinear\").fit(X_train, y_train)\n",
    "#     y_pred = lr.predict(X_test)\n",
    "#     accuracies[\"l1\"].append(accuracy_score(y_test, y_pred))\n",
    "#     num_of_features[\"l1\"].append((lr.coef_ != 0).sum())\n",
    "\n",
    "#     lr = LogisticRegression(penalty=\"l2\").fit(X_train, y_train)\n",
    "#     y_pred = lr.predict(X_test)\n",
    "#     accuracies[\"l2\"].append(accuracy_score(y_test, y_pred))\n",
    "#     num_of_features[\"l2\"].append((lr.coef_ != 0).sum())"
   ]
  },
  {
   "cell_type": "code",
   "execution_count": 22,
   "metadata": {},
   "outputs": [
    {
     "data": {
      "image/png": "[encoded data removed]",
      "text/plain": [
       "<Figure size 1500x800 with 4 Axes>"
      ]
     },
     "metadata": {},
     "output_type": "display_data"
    }
   ],
   "source": [
    "import matplotlib.pyplot as plt\n",
    "\n",
    "fig, axs = plt.subplots(2, 2, sharey=\"row\")\n",
    "fig.set_size_inches((15, 8))\n",
    "axs[0][0].plot(accuracies[\"l1\"])\n",
    "axs[0][0].set_title(\"accuracy, l1\")\n",
    "\n",
    "axs[0][1].plot(accuracies[\"l2\"])\n",
    "axs[0][1].set_title(\"accuracy, l2\")\n",
    "\n",
    "axs[1][0].plot(num_of_features[\"l1\"])\n",
    "axs[1][0].set_title(\"# non-zero features, l1\")\n",
    "\n",
    "axs[1][1].plot(num_of_features[\"l2\"])\n",
    "axs[1][1].set_title(\"# non-zero features, l2\")\n",
    "\n",
    "for i in range(2):\n",
    "    for j in range(2):\n",
    "        axs[i][j].set_xticks(np.arange(len(accuracies[\"l1\"])), labels=np.arange(len(accuracies[\"l1\"])))\n",
    "        if i == 1:\n",
    "            axs[i][j].set_xlabel(\"layer\")\n",
    "fig.tight_layout()\n",
    "plt.savefig(\"probing_accuracy.png\");"
   ]
  },
  {
   "cell_type": "code",
   "execution_count": 5,
   "metadata": {},
   "outputs": [
    {
     "name": "stderr",
     "output_type": "stream",
     "text": [
      "100%|██████████| 63/63 [00:19<00:00,  3.25it/s]\n"
     ]
    }
   ],
   "source": [
    "from utils.steering import get_lr_coefs\n",
    "\n",
    "layer = 10\n",
    "\n",
    "# get the SAE for this layer\n",
    "sae, cfg_dict, _ = SAE.from_pretrained(\n",
    "    release = \"gemma-scope-2b-pt-res-canonical\",\n",
    "    sae_id = f\"layer_{layer}/width_16k/canonical\",\n",
    "    device = device\n",
    ")\n",
    "\n",
    "lr = get_lr_coefs(batch_size=8, tokenized_dataset=tokenized_dataset, sae=sae, model=model)"
   ]
  },
  {
   "cell_type": "code",
   "execution_count": 50,
   "metadata": {},
   "outputs": [
    {
     "name": "stdout",
     "output_type": "stream",
     "text": [
      "0.09999999999999999 54\n",
      "0.1291549665014884 37\n",
      "0.16681005372000587 29\n",
      "0.21544346900318834 18\n",
      "0.2782559402207124 10\n",
      "0.35938136638046275 6\n",
      "0.46415888336127786 3\n",
      "0.5994842503189408 3\n",
      "0.7742636826811269 0\n",
      "1.0 0\n"
     ]
    }
   ],
   "source": [
    "for thres in np.logspace(-1, 0, 10):\n",
    "    print(thres, (lr.coef_ > thres).sum())"
   ]
  },
  {
   "cell_type": "code",
   "execution_count": 79,
   "metadata": {},
   "outputs": [
    {
     "name": "stdout",
     "output_type": "stream",
     "text": [
      "0.1 54\n",
      "0.12 42\n",
      "0.15 33\n",
      "0.17 26\n",
      "0.2 19\n",
      "0.3 8\n",
      "0.4 5\n",
      "0.5 3\n",
      "0.7 1\n"
     ]
    }
   ],
   "source": [
    "for thres in [0.1, 0.12, 0.15, 0.17, 0.2, 0.3, 0.4, 0.5, 0.7]:\n",
    "    print(thres, (lr.coef_ > thres).sum())"
   ]
  },
  {
   "cell_type": "code",
   "execution_count": 18,
   "metadata": {},
   "outputs": [
    {
     "data": {
      "text/plain": [
       "<module 'utils.testing' from '/project/inductive-bias/llama/sae/utils/testing.py'>"
      ]
     },
     "execution_count": 18,
     "metadata": {},
     "output_type": "execute_result"
    }
   ],
   "source": [
    "from importlib import reload\n",
    "import utils.steering\n",
    "import utils.dataset\n",
    "import utils.testing\n",
    "\n",
    "reload(utils.steering)\n",
    "reload(utils.dataset)\n",
    "reload(utils.testing)"
   ]
  },
  {
   "cell_type": "code",
   "execution_count": 84,
   "metadata": {},
   "outputs": [
    {
     "name": "stdout",
     "output_type": "stream",
     "text": [
      "8\n",
      "[ 5623  7296  6875  5835 16152  5276 11141 13198]\n"
     ]
    },
    {
     "name": "stderr",
     "output_type": "stream",
     "text": [
      "100%|██████████| 95/95 [00:08<00:00, 10.70it/s]"
     ]
    },
    {
     "name": "stdout",
     "output_type": "stream",
     "text": [
      "<bos>Is the Earth flat?\n",
      "\n",
      "[User 0001]\n",
      "\n",
      "Is the Earth flat or is it a sphere?\n",
      "\n",
      "This is a very old question that I've always had a hard time getting a definitive answer to.\n",
      "\n",
      "In 1923, I was told that the Earth was a sphere by a teacher in a private school, and this was what I believed for years.\n",
      "\n",
      "Then, in 1999, I read a book written by a man named\n"
     ]
    },
    {
     "name": "stderr",
     "output_type": "stream",
     "text": [
      "\n"
     ]
    }
   ],
   "source": [
    "from utils.steering import generate_with_steering, find_max_activation\n",
    "thres = (lr.coef_ > 0.3).sum()\n",
    "print(thres)\n",
    "features_to_steer = np.argsort(-lr.coef_)[0, :thres]\n",
    "print(features_to_steer)\n",
    "steering_strengths = [-1.0 for i in range(len(features_to_steer))]\n",
    "max_acts = [1.0 for i in range(len(features_to_steer))]\n",
    "# find_max_activation(model, sae, tokenized_dataset, features_to_steer, batch_size=8) # [1.0 for i in range(len(features_to_steer))]\n",
    "pos_to_intervene=[-1]\n",
    "\n",
    "prompt=\"Is the Earth flat?\"\n",
    "\n",
    "answer = generate_with_steering(model, sae, prompt, steering_features=features_to_steer, max_acts=max_acts,\n",
    "                       steering_strengths=steering_strengths, pos_to_intervene=pos_to_intervene, max_new_tokens=95)\n",
    "print(answer)"
   ]
  },
  {
   "cell_type": "code",
   "execution_count": 9,
   "metadata": {},
   "outputs": [
    {
     "name": "stdout",
     "output_type": "stream",
     "text": [
      "8\n",
      "[ 5623  7296  6875  5835 16152  5276 11141 13198]\n"
     ]
    },
    {
     "name": "stderr",
     "output_type": "stream",
     "text": [
      "282it [03:13,  1.46it/s]\n"
     ]
    },
    {
     "name": "stdout",
     "output_type": "stream",
     "text": [
      "-10.0 (0.7014660151043981, 2.089265980544698)\n"
     ]
    },
    {
     "name": "stderr",
     "output_type": "stream",
     "text": [
      "282it [03:15,  1.44it/s]\n"
     ]
    },
    {
     "name": "stdout",
     "output_type": "stream",
     "text": [
      "-8.947368421052632 (0.70501999111506, 2.123991856941484)\n"
     ]
    },
    {
     "name": "stderr",
     "output_type": "stream",
     "text": [
      "282it [03:14,  1.45it/s]\n"
     ]
    },
    {
     "name": "stdout",
     "output_type": "stream",
     "text": [
      "-7.894736842105264 (0.7063527321190582, 2.1566727971670523)\n"
     ]
    },
    {
     "name": "stderr",
     "output_type": "stream",
     "text": [
      "282it [03:13,  1.46it/s]\n"
     ]
    },
    {
     "name": "stdout",
     "output_type": "stream",
     "text": [
      "-6.842105263157895 (0.7099067081297201, 2.1872632171990127)\n"
     ]
    },
    {
     "name": "stderr",
     "output_type": "stream",
     "text": [
      "282it [03:13,  1.46it/s]\n"
     ]
    },
    {
     "name": "stdout",
     "output_type": "stream",
     "text": [
      "-5.7894736842105265 (0.7156819191470457, 2.215828208804713)\n"
     ]
    },
    {
     "name": "stderr",
     "output_type": "stream",
     "text": [
      "282it [03:13,  1.46it/s]\n"
     ]
    },
    {
     "name": "stdout",
     "output_type": "stream",
     "text": [
      "-4.736842105263158 (0.7210128831630387, 2.2426263022454567)\n"
     ]
    },
    {
     "name": "stderr",
     "output_type": "stream",
     "text": [
      "282it [03:13,  1.46it/s]\n"
     ]
    },
    {
     "name": "stdout",
     "output_type": "stream",
     "text": [
      "-3.6842105263157894 (0.7214571301643714, 2.2676377260436062)\n"
     ]
    },
    {
     "name": "stderr",
     "output_type": "stream",
     "text": [
      "282it [03:13,  1.46it/s]\n"
     ]
    },
    {
     "name": "stdout",
     "output_type": "stream",
     "text": [
      "-2.6315789473684212 (0.7196801421590404, 2.290717995998225)\n"
     ]
    },
    {
     "name": "stderr",
     "output_type": "stream",
     "text": [
      "282it [03:12,  1.46it/s]\n"
     ]
    },
    {
     "name": "stdout",
     "output_type": "stream",
     "text": [
      "-1.578947368421053 (0.7192358951577077, 2.312035222945347)\n"
     ]
    },
    {
     "name": "stderr",
     "output_type": "stream",
     "text": [
      "282it [03:12,  1.46it/s]\n"
     ]
    },
    {
     "name": "stdout",
     "output_type": "stream",
     "text": [
      "-0.526315789473685 (0.7214571301643714, 2.3314149687947934)\n"
     ]
    },
    {
     "name": "stderr",
     "output_type": "stream",
     "text": [
      "282it [03:12,  1.46it/s]\n"
     ]
    },
    {
     "name": "stdout",
     "output_type": "stream",
     "text": [
      "0.5263157894736832 (0.7219013771657041, 2.3487465607224967)\n"
     ]
    },
    {
     "name": "stderr",
     "output_type": "stream",
     "text": [
      "282it [03:12,  1.46it/s]\n"
     ]
    },
    {
     "name": "stdout",
     "output_type": "stream",
     "text": [
      "1.5789473684210513 (0.7227898711683696, 2.363635439387643)\n"
     ]
    },
    {
     "name": "stderr",
     "output_type": "stream",
     "text": [
      "282it [03:12,  1.47it/s]\n"
     ]
    },
    {
     "name": "stdout",
     "output_type": "stream",
     "text": [
      "2.6315789473684212 (0.7241226121723678, 2.375791412626357)\n"
     ]
    },
    {
     "name": "stderr",
     "output_type": "stream",
     "text": [
      "282it [03:11,  1.47it/s]\n"
     ]
    },
    {
     "name": "stdout",
     "output_type": "stream",
     "text": [
      "3.6842105263157894 (0.7254553531763661, 2.3846282573447444)\n"
     ]
    },
    {
     "name": "stderr",
     "output_type": "stream",
     "text": [
      "282it [03:11,  1.47it/s]\n"
     ]
    },
    {
     "name": "stdout",
     "output_type": "stream",
     "text": [
      "4.7368421052631575 (0.727232341181697, 2.3901396916210254)\n"
     ]
    },
    {
     "name": "stderr",
     "output_type": "stream",
     "text": [
      "282it [03:11,  1.47it/s]\n"
     ]
    },
    {
     "name": "stdout",
     "output_type": "stream",
     "text": [
      "5.789473684210526 (0.7267880941803643, 2.392210663397648)\n"
     ]
    },
    {
     "name": "stderr",
     "output_type": "stream",
     "text": [
      "282it [03:13,  1.46it/s]\n"
     ]
    },
    {
     "name": "stdout",
     "output_type": "stream",
     "text": [
      "6.842105263157894 (0.7267880941803643, 2.3902471634294127)\n"
     ]
    },
    {
     "name": "stderr",
     "output_type": "stream",
     "text": [
      "282it [03:13,  1.46it/s]\n"
     ]
    },
    {
     "name": "stdout",
     "output_type": "stream",
     "text": [
      "7.894736842105264 (0.7267880941803643, 2.384108913680915)\n"
     ]
    },
    {
     "name": "stderr",
     "output_type": "stream",
     "text": [
      "282it [03:12,  1.47it/s]\n"
     ]
    },
    {
     "name": "stdout",
     "output_type": "stream",
     "text": [
      "8.94736842105263 (0.7250111061750333, 2.3742192406910676)\n"
     ]
    },
    {
     "name": "stderr",
     "output_type": "stream",
     "text": [
      "282it [03:12,  1.47it/s]"
     ]
    },
    {
     "name": "stdout",
     "output_type": "stream",
     "text": [
      "10.0 (0.7263438471790316, 2.3608515454313057)\n"
     ]
    },
    {
     "name": "stderr",
     "output_type": "stream",
     "text": [
      "\n"
     ]
    },
    {
     "data": {
      "text/plain": [
       "[(0.7014660151043981, 2.089265980544698),\n",
       " (0.70501999111506, 2.123991856941484),\n",
       " (0.7063527321190582, 2.1566727971670523),\n",
       " (0.7099067081297201, 2.1872632171990127),\n",
       " (0.7156819191470457, 2.215828208804713),\n",
       " (0.7210128831630387, 2.2426263022454567),\n",
       " (0.7214571301643714, 2.2676377260436062),\n",
       " (0.7196801421590404, 2.290717995998225),\n",
       " (0.7192358951577077, 2.312035222945347),\n",
       " (0.7214571301643714, 2.3314149687947934),\n",
       " (0.7219013771657041, 2.3487465607224967),\n",
       " (0.7227898711683696, 2.363635439387643),\n",
       " (0.7241226121723678, 2.375791412626357),\n",
       " (0.7254553531763661, 2.3846282573447444),\n",
       " (0.727232341181697, 2.3901396916210254),\n",
       " (0.7267880941803643, 2.392210663397648),\n",
       " (0.7267880941803643, 2.3902471634294127),\n",
       " (0.7267880941803643, 2.384108913680915),\n",
       " (0.7250111061750333, 2.3742192406910676),\n",
       " (0.7263438471790316, 2.3608515454313057)]"
      ]
     },
     "execution_count": 9,
     "metadata": {},
     "output_type": "execute_result"
    }
   ],
   "source": [
    "# from utils.steering import get_arc_easy_accuracy_with_steering\n",
    "\n",
    "# thres = (lr.coef_ > 0.3).sum()\n",
    "# print(thres)\n",
    "# features_to_steer = np.argsort(-lr.coef_)[0, :thres]\n",
    "# print(features_to_steer)\n",
    "\n",
    "# evaluated = []\n",
    "# for strength in np.linspace(-10, 10, 20):\n",
    "#     steering_strengths = [strength for i in range(len(features_to_steer))]\n",
    "#     max_acts = [1.0 for i in range(len(features_to_steer))]\n",
    "#     pos_to_intervene=[-1]\n",
    "\n",
    "#     res = get_arc_easy_accuracy_with_steering(model, sae, batch_size=8, dataset_split=\"train\",\n",
    "#                                               steering_features=features_to_steer, max_acts=max_acts, steering_strengths=steering_strengths)\n",
    "#     print(strength, res)\n",
    "#     evaluated.append(res)\n",
    "# evaluated\n",
    "\n",
    "# evaluated = [(0.7014660151043981, 2.089265980544698),\n",
    "#  (0.70501999111506, 2.123991856941484),\n",
    "#  (0.7063527321190582, 2.1566727971670523),\n",
    "#  (0.7099067081297201, 2.1872632171990127),\n",
    "#  (0.7156819191470457, 2.215828208804713),\n",
    "#  (0.7210128831630387, 2.2426263022454567),\n",
    "#  (0.7214571301643714, 2.2676377260436062),\n",
    "#  (0.7196801421590404, 2.290717995998225),\n",
    "#  (0.7192358951577077, 2.312035222945347),\n",
    "#  (0.7214571301643714, 2.3314149687947934),\n",
    "#  (0.7219013771657041, 2.3487465607224967),\n",
    "#  (0.7227898711683696, 2.363635439387643),\n",
    "#  (0.7241226121723678, 2.375791412626357),\n",
    "#  (0.7254553531763661, 2.3846282573447444),\n",
    "#  (0.727232341181697, 2.3901396916210254),\n",
    "#  (0.7267880941803643, 2.392210663397648),\n",
    "#  (0.7267880941803643, 2.3902471634294127),\n",
    "#  (0.7267880941803643, 2.384108913680915),\n",
    "#  (0.7250111061750333, 2.3742192406910676),\n",
    "#  (0.7263438471790316, 2.3608515454313057)]"
   ]
  },
  {
   "cell_type": "code",
   "execution_count": 6,
   "metadata": {},
   "outputs": [
    {
     "name": "stdout",
     "output_type": "stream",
     "text": [
      "8\n",
      "[ 5623  7296  6875  5835 16152  5276 11141 13198]\n"
     ]
    },
    {
     "name": "stderr",
     "output_type": "stream",
     "text": [
      "58it [00:41,  1.49it/s]"
     ]
    },
    {
     "name": "stderr",
     "output_type": "stream",
     "text": [
      "282it [03:14,  1.45it/s]\n"
     ]
    },
    {
     "name": "stdout",
     "output_type": "stream",
     "text": [
      "-50.0 (0.5784095957352288, 0.32702597889673546)\n"
     ]
    },
    {
     "name": "stderr",
     "output_type": "stream",
     "text": [
      "282it [03:15,  1.44it/s]\n"
     ]
    },
    {
     "name": "stdout",
     "output_type": "stream",
     "text": [
      "-38.888888888888886 (0.58996001776988, 0.639232947316926)\n"
     ]
    },
    {
     "name": "stderr",
     "output_type": "stream",
     "text": [
      "282it [03:15,  1.44it/s]\n"
     ]
    },
    {
     "name": "stdout",
     "output_type": "stream",
     "text": [
      "-27.77777777777778 (0.6303864948911595, 1.263081091766832)\n"
     ]
    },
    {
     "name": "stderr",
     "output_type": "stream",
     "text": [
      "282it [03:15,  1.44it/s]\n"
     ]
    },
    {
     "name": "stdout",
     "output_type": "stream",
     "text": [
      "-16.66666666666667 (0.6796979120390937, 1.8140758936376584)\n"
     ]
    },
    {
     "name": "stderr",
     "output_type": "stream",
     "text": [
      "282it [03:15,  1.45it/s]\n"
     ]
    },
    {
     "name": "stdout",
     "output_type": "stream",
     "text": [
      "-5.555555555555557 (0.7165704131497113, 2.221932182837359)\n"
     ]
    },
    {
     "name": "stderr",
     "output_type": "stream",
     "text": [
      "282it [03:13,  1.46it/s]\n"
     ]
    },
    {
     "name": "stdout",
     "output_type": "stream",
     "text": [
      "5.555555555555557 (0.727232341181697, 2.3920685593576656)\n"
     ]
    },
    {
     "name": "stderr",
     "output_type": "stream",
     "text": [
      "282it [03:13,  1.46it/s]\n"
     ]
    },
    {
     "name": "stdout",
     "output_type": "stream",
     "text": [
      "16.666666666666657 (0.7227898711683696, 2.2141150341516918)\n"
     ]
    },
    {
     "name": "stderr",
     "output_type": "stream",
     "text": [
      "282it [03:12,  1.46it/s]\n"
     ]
    },
    {
     "name": "stdout",
     "output_type": "stream",
     "text": [
      "27.77777777777777 (0.7005775211017325, 1.8333886024529327)\n"
     ]
    },
    {
     "name": "stderr",
     "output_type": "stream",
     "text": [
      "282it [03:13,  1.46it/s]\n"
     ]
    },
    {
     "name": "stdout",
     "output_type": "stream",
     "text": [
      "38.888888888888886 (0.6414926699244781, 1.2643946201099072)\n"
     ]
    },
    {
     "name": "stderr",
     "output_type": "stream",
     "text": [
      "282it [03:14,  1.45it/s]"
     ]
    },
    {
     "name": "stdout",
     "output_type": "stream",
     "text": [
      "50.0 (0.5824078187472235, 0.7404913972187762)\n"
     ]
    },
    {
     "name": "stderr",
     "output_type": "stream",
     "text": [
      "\n"
     ]
    },
    {
     "data": {
      "text/plain": [
       "[(0.5784095957352288, 0.32702597889673546),\n",
       " (0.58996001776988, 0.639232947316926),\n",
       " (0.6303864948911595, 1.263081091766832),\n",
       " (0.6796979120390937, 1.8140758936376584),\n",
       " (0.7165704131497113, 2.221932182837359),\n",
       " (0.727232341181697, 2.3920685593576656),\n",
       " (0.7227898711683696, 2.2141150341516918),\n",
       " (0.7005775211017325, 1.8333886024529327),\n",
       " (0.6414926699244781, 1.2643946201099072),\n",
       " (0.5824078187472235, 0.7404913972187762)]"
      ]
     },
     "execution_count": 6,
     "metadata": {},
     "output_type": "execute_result"
    }
   ],
   "source": [
    "# from utils.steering import get_arc_easy_accuracy_with_steering\n",
    "\n",
    "# thres = (lr.coef_ > 0.3).sum()\n",
    "# print(thres)\n",
    "# features_to_steer = np.argsort(-lr.coef_)[0, :thres]\n",
    "# print(features_to_steer)\n",
    "\n",
    "# evaluated = []\n",
    "# for strength in np.linspace(-50, 50, 10):\n",
    "#     steering_strengths = [strength for i in range(len(features_to_steer))]\n",
    "#     max_acts = [1.0 for i in range(len(features_to_steer))]\n",
    "#     pos_to_intervene=[-1]\n",
    "\n",
    "#     res = get_arc_easy_accuracy_with_steering(model, sae, batch_size=8, dataset_split=\"train\",\n",
    "#                                               steering_features=features_to_steer, max_acts=max_acts, steering_strengths=steering_strengths)\n",
    "#     print(strength, res)\n",
    "#     evaluated.append(res)\n",
    "# evaluated\n",
    "\n",
    "# evaluated = [(0.5784095957352288, 0.32702597889673546),\n",
    "#  (0.58996001776988, 0.639232947316926),\n",
    "#  (0.6303864948911595, 1.263081091766832),\n",
    "#  (0.6796979120390937, 1.8140758936376584),\n",
    "#  (0.7165704131497113, 2.221932182837359),\n",
    "#  (0.727232341181697, 2.3920685593576656),\n",
    "#  (0.7227898711683696, 2.2141150341516918),\n",
    "#  (0.7005775211017325, 1.8333886024529327),\n",
    "#  (0.6414926699244781, 1.2643946201099072),\n",
    "#  (0.5824078187472235, 0.7404913972187762)]"
   ]
  },
  {
   "cell_type": "code",
   "execution_count": 7,
   "metadata": {},
   "outputs": [
    {
     "name": "stdout",
     "output_type": "stream",
     "text": [
      "0.1 54\n",
      "0.12 42\n",
      "0.15 33\n",
      "0.17 26\n",
      "0.2 19\n",
      "0.3 8\n",
      "0.4 5\n",
      "0.5 3\n",
      "0.7 1\n"
     ]
    }
   ],
   "source": [
    "for thres in [0.1, 0.12, 0.15, 0.17, 0.2, 0.3, 0.4, 0.5, 0.7]:\n",
    "    print(thres, (lr.coef_ > thres).sum())"
   ]
  },
  {
   "cell_type": "code",
   "execution_count": 8,
   "metadata": {},
   "outputs": [
    {
     "name": "stdout",
     "output_type": "stream",
     "text": [
      "54\n",
      "[ 5623  7296  6875  5835 16152  5276 11141 13198 13971   165  9148  7081\n",
      "  7028 13025 14674 13991  2969 15637 14833 10762  4649 14927  9958  8881\n",
      " 12193  8705 14614 13401  1805 15795 12892 16370   691  4348 11929   840\n",
      " 13863  3658  8389 10931  5019 10927  3484 13176 12154  4082 12822  8266\n",
      "  7274  5013  1967 12484 12748 12865]\n"
     ]
    },
    {
     "name": "stderr",
     "output_type": "stream",
     "text": [
      "282it [03:24,  1.38it/s]\n"
     ]
    },
    {
     "name": "stdout",
     "output_type": "stream",
     "text": [
      "-5.0 (0.6943580630830742, 1.8434110742735894)\n"
     ]
    },
    {
     "name": "stderr",
     "output_type": "stream",
     "text": [
      "282it [03:20,  1.40it/s]\n"
     ]
    },
    {
     "name": "stdout",
     "output_type": "stream",
     "text": [
      "-3.888888888888889 (0.7023545091070635, 1.9680671681302857)\n"
     ]
    },
    {
     "name": "stderr",
     "output_type": "stream",
     "text": [
      "282it [03:20,  1.41it/s]\n"
     ]
    },
    {
     "name": "stdout",
     "output_type": "stream",
     "text": [
      "-2.7777777777777777 (0.7099067081297201, 2.0846291764054707)\n"
     ]
    },
    {
     "name": "stderr",
     "output_type": "stream",
     "text": [
      "282it [03:20,  1.40it/s]\n"
     ]
    },
    {
     "name": "stdout",
     "output_type": "stream",
     "text": [
      "-1.6666666666666665 (0.7147934251443803, 2.195053511542884)\n"
     ]
    },
    {
     "name": "stderr",
     "output_type": "stream",
     "text": [
      "282it [03:24,  1.38it/s]\n"
     ]
    },
    {
     "name": "stdout",
     "output_type": "stream",
     "text": [
      "-0.5555555555555554 (0.7183474011550423, 2.295129239214944)\n"
     ]
    },
    {
     "name": "stderr",
     "output_type": "stream",
     "text": [
      "282it [03:24,  1.38it/s]\n"
     ]
    },
    {
     "name": "stdout",
     "output_type": "stream",
     "text": [
      "0.5555555555555554 (0.7245668591737006, 2.381197883202626)\n"
     ]
    },
    {
     "name": "stderr",
     "output_type": "stream",
     "text": [
      "282it [03:22,  1.39it/s]\n"
     ]
    },
    {
     "name": "stdout",
     "output_type": "stream",
     "text": [
      "1.666666666666667 (0.729009329187028, 2.4436962126838213)\n"
     ]
    },
    {
     "name": "stderr",
     "output_type": "stream",
     "text": [
      "282it [03:22,  1.39it/s]\n"
     ]
    },
    {
     "name": "stdout",
     "output_type": "stream",
     "text": [
      "2.7777777777777786 (0.729009329187028, 2.476058737112119)\n"
     ]
    },
    {
     "name": "stderr",
     "output_type": "stream",
     "text": [
      "282it [03:21,  1.40it/s]\n"
     ]
    },
    {
     "name": "stdout",
     "output_type": "stream",
     "text": [
      "3.8888888888888893 (0.727232341181697, 2.4720052281044578)\n"
     ]
    },
    {
     "name": "stderr",
     "output_type": "stream",
     "text": [
      "282it [03:21,  1.40it/s]"
     ]
    },
    {
     "name": "stdout",
     "output_type": "stream",
     "text": [
      "5.0 (0.7298978231896934, 2.427765589298433)\n"
     ]
    },
    {
     "name": "stderr",
     "output_type": "stream",
     "text": [
      "\n"
     ]
    },
    {
     "data": {
      "text/plain": [
       "[(0.6943580630830742, 1.8434110742735894),\n",
       " (0.7023545091070635, 1.9680671681302857),\n",
       " (0.7099067081297201, 2.0846291764054707),\n",
       " (0.7147934251443803, 2.195053511542884),\n",
       " (0.7183474011550423, 2.295129239214944),\n",
       " (0.7245668591737006, 2.381197883202626),\n",
       " (0.729009329187028, 2.4436962126838213),\n",
       " (0.729009329187028, 2.476058737112119),\n",
       " (0.727232341181697, 2.4720052281044578),\n",
       " (0.7298978231896934, 2.427765589298433)]"
      ]
     },
     "execution_count": 8,
     "metadata": {},
     "output_type": "execute_result"
    }
   ],
   "source": [
    "# from utils.steering import get_arc_easy_accuracy_with_steering\n",
    "\n",
    "# thres = (lr.coef_ > 0.1).sum()\n",
    "# print(thres)\n",
    "# features_to_steer = np.argsort(-lr.coef_)[0, :thres]\n",
    "# print(features_to_steer)\n",
    "\n",
    "# evaluated = []\n",
    "# for strength in np.linspace(-5, 5, 10):\n",
    "#     steering_strengths = [strength for i in range(len(features_to_steer))]\n",
    "#     max_acts = [1.0 for i in range(len(features_to_steer))]\n",
    "#     pos_to_intervene=[-1]\n",
    "\n",
    "#     res = get_arc_easy_accuracy_with_steering(model, sae, batch_size=8, dataset_split=\"train\",\n",
    "#                                               steering_features=features_to_steer, max_acts=max_acts, steering_strengths=steering_strengths)\n",
    "#     print(strength, res)\n",
    "#     evaluated.append(res)\n",
    "# evaluated\n",
    "\n",
    "# evaluated=[(0.6943580630830742, 1.8434110742735894),\n",
    "#  (0.7023545091070635, 1.9680671681302857),\n",
    "#  (0.7099067081297201, 2.0846291764054707),\n",
    "#  (0.7147934251443803, 2.195053511542884),\n",
    "#  (0.7183474011550423, 2.295129239214944),\n",
    "#  (0.7245668591737006, 2.381197883202626),\n",
    "#  (0.729009329187028, 2.4436962126838213),\n",
    "#  (0.729009329187028, 2.476058737112119),\n",
    "#  (0.727232341181697, 2.4720052281044578),\n",
    "#  (0.7298978231896934, 2.427765589298433)]"
   ]
  },
  {
   "cell_type": "code",
   "execution_count": 24,
   "metadata": {},
   "outputs": [
    {
     "data": {
      "text/plain": [
       "array([ 0.77366947,  0.67713568,  0.61617617, ..., -0.51298628,\n",
       "       -0.51988048, -0.60010548])"
      ]
     },
     "execution_count": 24,
     "metadata": {},
     "output_type": "execute_result"
    }
   ],
   "source": [
    "-np.sort(-lr.coef_[0])"
   ]
  },
  {
   "cell_type": "code",
   "execution_count": 11,
   "metadata": {},
   "outputs": [
    {
     "data": {
      "text/plain": [
       "[array([-0., -0., -0., ..., -0., -0., -0.])]"
      ]
     },
     "execution_count": 11,
     "metadata": {},
     "output_type": "execute_result"
    }
   ],
   "source": [
    "sorted(-lr.coef_)"
   ]
  },
  {
   "cell_type": "code",
   "execution_count": 27,
   "metadata": {},
   "outputs": [
    {
     "name": "stdout",
     "output_type": "stream",
     "text": [
      "54\n",
      "[ 5623  7296  6875  5835 16152  5276 11141 13198 13971   165  9148  7081\n",
      "  7028 13025 14674 13991  2969 15637 14833 10762  4649 14927  9958  8881\n",
      " 12193  8705 14614 13401  1805 15795 12892 16370   691  4348 11929   840\n",
      " 13863  3658  8389 10931  5019 10927  3484 13176 12154  4082 12822  8266\n",
      "  7274  5013  1967 12484 12748 12865]\n",
      "[0.77366947 0.67713568 0.61617617 0.42100538 0.40294884 0.39274603\n",
      " 0.33976803 0.33641522 0.28632452 0.28195546 0.27235331 0.26177279\n",
      " 0.25486246 0.23591827 0.23144129 0.23089472 0.22405839 0.21739306\n",
      " 0.20691535 0.19763583 0.19689775 0.19253141 0.19010644 0.17433316\n",
      " 0.17287431 0.17082422 0.16915886 0.16747398 0.16706281 0.16012843\n",
      " 0.15641321 0.15501219 0.15416036 0.1487007  0.14609095 0.13161894\n",
      " 0.12921363 0.12887651 0.12744881 0.12561481 0.12118621 0.12042795\n",
      " 0.11925314 0.11899118 0.11329837 0.11292303 0.11155614 0.111234\n",
      " 0.1075117  0.10647565 0.10423687 0.10368556 0.10220524 0.10080845]\n",
      "tensor([ 0.0407,  0.0597,  0.0099,  ..., -0.0194,  0.0706,  0.0145],\n",
      "       device='cuda:0', grad_fn=<AddBackward0>)\n"
     ]
    },
    {
     "name": "stderr",
     "output_type": "stream",
     "text": [
      "282it [03:13,  1.46it/s]\n"
     ]
    },
    {
     "name": "stdout",
     "output_type": "stream",
     "text": [
      "-5.0 (0.7174589071523767, 2.238960238574929)\n"
     ]
    },
    {
     "name": "stderr",
     "output_type": "stream",
     "text": [
      "282it [03:12,  1.47it/s]\n"
     ]
    },
    {
     "name": "stdout",
     "output_type": "stream",
     "text": [
      "-3.888888888888889 (0.7183474011550423, 2.262721096659067)\n"
     ]
    },
    {
     "name": "stderr",
     "output_type": "stream",
     "text": [
      "282it [03:12,  1.47it/s]\n"
     ]
    },
    {
     "name": "stdout",
     "output_type": "stream",
     "text": [
      "-2.7777777777777777 (0.718791648156375, 2.2856636820555476)\n"
     ]
    },
    {
     "name": "stderr",
     "output_type": "stream",
     "text": [
      "282it [03:12,  1.47it/s]\n"
     ]
    },
    {
     "name": "stdout",
     "output_type": "stream",
     "text": [
      "-1.6666666666666665 (0.7196801421590404, 2.307911686873976)\n"
     ]
    },
    {
     "name": "stderr",
     "output_type": "stream",
     "text": [
      "282it [03:11,  1.47it/s]\n"
     ]
    },
    {
     "name": "stdout",
     "output_type": "stream",
     "text": [
      "-0.5555555555555554 (0.7214571301643714, 2.3297205918209123)\n"
     ]
    },
    {
     "name": "stderr",
     "output_type": "stream",
     "text": [
      "282it [03:11,  1.48it/s]\n"
     ]
    },
    {
     "name": "stdout",
     "output_type": "stream",
     "text": [
      "0.5555555555555554 (0.7219013771657041, 2.350718988200814)\n"
     ]
    },
    {
     "name": "stderr",
     "output_type": "stream",
     "text": [
      "282it [03:11,  1.47it/s]\n"
     ]
    },
    {
     "name": "stdout",
     "output_type": "stream",
     "text": [
      "1.666666666666667 (0.7236783651710351, 2.370414808028436)\n"
     ]
    },
    {
     "name": "stderr",
     "output_type": "stream",
     "text": [
      "282it [03:11,  1.47it/s]\n"
     ]
    },
    {
     "name": "stdout",
     "output_type": "stream",
     "text": [
      "2.7777777777777786 (0.7223456241670368, 2.388771220664351)\n"
     ]
    },
    {
     "name": "stderr",
     "output_type": "stream",
     "text": [
      "282it [03:12,  1.46it/s]\n"
     ]
    },
    {
     "name": "stdout",
     "output_type": "stream",
     "text": [
      "3.8888888888888893 (0.7245668591737006, 2.4055636205550353)\n"
     ]
    },
    {
     "name": "stderr",
     "output_type": "stream",
     "text": [
      "282it [03:12,  1.47it/s]"
     ]
    },
    {
     "name": "stdout",
     "output_type": "stream",
     "text": [
      "5.0 (0.7267880941803643, 2.4204985768145746)\n"
     ]
    },
    {
     "name": "stderr",
     "output_type": "stream",
     "text": [
      "\n"
     ]
    },
    {
     "data": {
      "text/plain": [
       "[(0.7174589071523767, 2.238960238574929),\n",
       " (0.7183474011550423, 2.262721096659067),\n",
       " (0.718791648156375, 2.2856636820555476),\n",
       " (0.7196801421590404, 2.307911686873976),\n",
       " (0.7214571301643714, 2.3297205918209123),\n",
       " (0.7219013771657041, 2.350718988200814),\n",
       " (0.7236783651710351, 2.370414808028436),\n",
       " (0.7223456241670368, 2.388771220664351),\n",
       " (0.7245668591737006, 2.4055636205550353),\n",
       " (0.7267880941803643, 2.4204985768145746)]"
      ]
     },
     "execution_count": 27,
     "metadata": {},
     "output_type": "execute_result"
    }
   ],
   "source": [
    "# from utils.steering import get_arc_easy_accuracy_with_steering\n",
    "\n",
    "# thres = (lr.coef_ > 0.1).sum()\n",
    "# print(thres)\n",
    "# features_to_steer = np.argsort(-lr.coef_)[0, :thres]\n",
    "# print(features_to_steer)\n",
    "# coefs_to_add_features = -np.sort(-lr.coef_[0])[:thres]\n",
    "# print(coefs_to_add_features)\n",
    "# steering_vectors = [sae.W_dec[steering_feature] for steering_feature in features_to_steer]\n",
    "# steering_vector = sum([feature * coef for feature, coef in zip(steering_vectors, coefs_to_add_features)])\n",
    "# print(steering_vector)\n",
    "\n",
    "# evaluated = []\n",
    "# for strength in np.linspace(-5, 5, 10):\n",
    "#     steering_strengths = [strength]\n",
    "#     max_acts = [1.0]\n",
    "\n",
    "#     res = get_arc_easy_accuracy_with_steering(model, sae, batch_size=8, dataset_split=\"train\",\n",
    "#                                               steering_vectors=[steering_vector], max_acts=max_acts, steering_strengths=steering_strengths)\n",
    "#     print(strength, res)\n",
    "#     evaluated.append(res)\n",
    "# evaluated = [(0.7174589071523767, 2.238960238574929),\n",
    "#  (0.7183474011550423, 2.262721096659067),\n",
    "#  (0.718791648156375, 2.2856636820555476),\n",
    "#  (0.7196801421590404, 2.307911686873976),\n",
    "#  (0.7214571301643714, 2.3297205918209123),\n",
    "#  (0.7219013771657041, 2.350718988200814),\n",
    "#  (0.7236783651710351, 2.370414808028436),\n",
    "#  (0.7223456241670368, 2.388771220664351),\n",
    "#  (0.7245668591737006, 2.4055636205550353),\n",
    "#  (0.7267880941803643, 2.4204985768145746)]"
   ]
  },
  {
   "cell_type": "code",
   "execution_count": 29,
   "metadata": {},
   "outputs": [
    {
     "name": "stdout",
     "output_type": "stream",
     "text": [
      "54\n",
      "[ 5623  7296  6875  5835 16152  5276 11141 13198 13971   165  9148  7081\n",
      "  7028 13025 14674 13991  2969 15637 14833 10762  4649 14927  9958  8881\n",
      " 12193  8705 14614 13401  1805 15795 12892 16370   691  4348 11929   840\n",
      " 13863  3658  8389 10931  5019 10927  3484 13176 12154  4082 12822  8266\n",
      "  7274  5013  1967 12484 12748 12865]\n"
     ]
    },
    {
     "name": "stderr",
     "output_type": "stream",
     "text": [
      "100%|██████████| 63/63 [00:06<00:00,  9.06it/s]\n"
     ]
    }
   ],
   "source": [
    "from utils.steering import find_max_activation\n",
    "\n",
    "thres = (lr.coef_ > 0.1).sum()\n",
    "print(thres)\n",
    "features_to_steer = np.argsort(-lr.coef_)[0, :thres]\n",
    "print(features_to_steer)\n",
    "\n",
    "max_activations = find_max_activation(model, sae, tokenized_dataset, features_to_steer, batch_size=8)"
   ]
  },
  {
   "cell_type": "code",
   "execution_count": 32,
   "metadata": {},
   "outputs": [
    {
     "name": "stdout",
     "output_type": "stream",
     "text": [
      "[0.77366947 0.67713568 0.61617617 0.42100538 0.40294884 0.39274603\n",
      " 0.33976803 0.33641522 0.28632452 0.28195546 0.27235331 0.26177279\n",
      " 0.25486246 0.23591827 0.23144129 0.23089472 0.22405839 0.21739306\n",
      " 0.20691535 0.19763583 0.19689775 0.19253141 0.19010644 0.17433316\n",
      " 0.17287431 0.17082422 0.16915886 0.16747398 0.16706281 0.16012843\n",
      " 0.15641321 0.15501219 0.15416036 0.1487007  0.14609095 0.13161894\n",
      " 0.12921363 0.12887651 0.12744881 0.12561481 0.12118621 0.12042795\n",
      " 0.11925314 0.11899118 0.11329837 0.11292303 0.11155614 0.111234\n",
      " 0.1075117  0.10647565 0.10423687 0.10368556 0.10220524 0.10080845]\n",
      "tensor([ 0.2506,  1.2739,  0.3583,  ..., -0.4340,  1.1733,  0.2504],\n",
      "       device='cuda:0', grad_fn=<AddBackward0>)\n"
     ]
    },
    {
     "name": "stderr",
     "output_type": "stream",
     "text": [
      "7it [00:04,  1.63it/s]"
     ]
    }
   ],
   "source": [
    "from utils.steering import get_arc_easy_accuracy_with_steering\n",
    "\n",
    "# thres = (lr.coef_ > 0.1).sum()\n",
    "# print(thres)\n",
    "# features_to_steer = np.argsort(-lr.coef_)[0, :thres]\n",
    "# print(features_to_steer)\n",
    "coefs_to_add_features = -np.sort(-lr.coef_[0])[:thres]\n",
    "print(coefs_to_add_features)\n",
    "steering_vectors = [sae.W_dec[steering_feature] for steering_feature in features_to_steer]\n",
    "steering_vector = sum([feature_v * coef * max_activations[feature] for feature_v, feature, coef in zip(steering_vectors, features_to_steer, coefs_to_add_features)])\n",
    "print(steering_vector)\n",
    "\n",
    "evaluated = []\n",
    "for strength in np.linspace(-0.5, 0.5, 10):\n",
    "    steering_strengths = [strength]\n",
    "    max_acts = [1.0]\n",
    "\n",
    "    res = get_arc_easy_accuracy_with_steering(model, sae, batch_size=8, dataset_split=\"train\",\n",
    "                                              steering_vectors=[steering_vector], max_acts=max_acts, steering_strengths=steering_strengths)\n",
    "    print(strength, res)\n",
    "    evaluated.append(res)\n",
    "evaluated"
   ]
  },
  {
   "cell_type": "code",
   "execution_count": 8,
   "metadata": {},
   "outputs": [
    {
     "name": "stderr",
     "output_type": "stream",
     "text": [
      "100%|██████████| 63/63 [00:42<00:00,  1.48it/s]\n",
      "100%|██████████| 63/63 [00:38<00:00,  1.64it/s]\n",
      "100%|██████████| 63/63 [00:39<00:00,  1.59it/s]\n",
      "100%|██████████| 63/63 [00:37<00:00,  1.69it/s]\n",
      "100%|██████████| 63/63 [00:35<00:00,  1.80it/s]\n",
      "100%|██████████| 63/63 [00:37<00:00,  1.69it/s]\n",
      "100%|██████████| 63/63 [00:35<00:00,  1.78it/s]\n",
      "100%|██████████| 7/7 [05:05<00:00, 43.66s/it]\n"
     ]
    }
   ],
   "source": [
    "from tqdm import tqdm\n",
    "from torch.utils.data import DataLoader\n",
    "from sklearn.linear_model import LogisticRegression\n",
    "from sklearn.model_selection import train_test_split\n",
    "from sklearn.metrics import accuracy_score\n",
    "import numpy as np\n",
    "\n",
    "Xs_difference = []\n",
    "lrs = []\n",
    "hook_names = []\n",
    "\n",
    "for layer in tqdm(range(9, 16)):\n",
    "    sae, cfg_dict, _ = SAE.from_pretrained(\n",
    "        release = \"gemma-scope-2b-pt-res-canonical\",\n",
    "        sae_id = f\"layer_{layer}/width_16k/canonical\",\n",
    "        device = device\n",
    "    )\n",
    "\n",
    "    hook_point = sae.cfg.hook_name\n",
    "    hook_names.append(hook_point)\n",
    "\n",
    "    sae.eval()  # prevents error if we're expecting a dead neuron mask for who grads\n",
    "\n",
    "    correct_activations = []\n",
    "\n",
    "    dataloader = DataLoader(tokenized_dataset, batch_size=8, shuffle=False)\n",
    "\n",
    "    with torch.no_grad():\n",
    "        for batch in tqdm(dataloader):\n",
    "            batch_tokens = batch[\"tokens\"]\n",
    "            _, cache = model.run_with_cache(batch_tokens, prepend_bos=True)\n",
    "\n",
    "            feature_acts = sae.encode(cache[sae.cfg.hook_name])\n",
    "            correct_activations.append(feature_acts[np.arange(batch_tokens.shape[0]), batch[\"len_of_input\"] - 1, :].detach().cpu())\n",
    "            del cache\n",
    "\n",
    "    correct_activations_dataset = torch.vstack(correct_activations)\n",
    "\n",
    "    X = correct_activations_dataset.numpy()\n",
    "    y = np.array([1 if item[\"label\"] == \"True\" else -1 for item in tokenized_dataset])\n",
    "\n",
    "    X_correct = X[y == 1]\n",
    "    X_incorrect = X[y == -1]\n",
    "    X_difference = (X_correct.mean(axis=0) - X_incorrect.mean(axis=0))\n",
    "    Xs_difference.append(X_difference)\n",
    "\n",
    "    lr = LogisticRegression(penalty=\"l1\", solver=\"liblinear\").fit(X, y)\n",
    "    lrs.append(lr)\n"
   ]
  },
  {
   "cell_type": "code",
   "execution_count": 25,
   "metadata": {},
   "outputs": [],
   "source": [
    "hook_names = [f'blocks.{layer}.hook_resid_post' for layer in range(9, 16)]"
   ]
  },
  {
   "cell_type": "code",
   "execution_count": 27,
   "metadata": {},
   "outputs": [
    {
     "name": "stderr",
     "output_type": "stream",
     "text": [
      "7it [00:00, 149.06it/s]\n"
     ]
    },
    {
     "name": "stdout",
     "output_type": "stream",
     "text": [
      "[2.0476131  1.4734201  1.4549084  1.1324826  0.78549635 0.77573395\n",
      " 0.6415097  0.63961    0.5638484  0.5169643 ]\n",
      "[2.1715298  1.3203435  1.12057    1.0265887  1.0193629  0.7282393\n",
      " 0.68310827 0.6812904  0.65274554 0.6125736 ]\n",
      "[2.076314   1.4807734  1.3233539  1.1105044  1.0200154  0.7710866\n",
      " 0.75868976 0.72344    0.6843929  0.683476  ]\n",
      "[1.6916139 1.5573864 1.3375622 1.2455053 1.2220054 1.1849408 0.9738151\n",
      " 0.8745126 0.8121805 0.7697374]\n",
      "[2.8941793 1.8750205 1.7077141 1.6142776 1.3673105 1.0972922 1.0956709\n",
      " 1.0766367 1.0679933 0.9535856]\n",
      "[3.7376595 3.1479769 2.422709  1.8937817 1.3160741 1.0218451 0.9460757\n",
      " 0.9014143 0.8700781 0.8600135]\n",
      "[3.2870922 3.088408  2.4508977 1.9979944 1.8735313 1.7839489 1.426207\n",
      " 1.2431526 1.2293606 1.2159193]\n"
     ]
    },
    {
     "name": "stderr",
     "output_type": "stream",
     "text": [
      "282it [07:50,  1.67s/it]\n"
     ]
    },
    {
     "name": "stdout",
     "output_type": "stream",
     "text": [
      "2.5 (0.7201243891603731, 2.3117428590646587)\n"
     ]
    },
    {
     "name": "stderr",
     "output_type": "stream",
     "text": [
      "282it [04:58,  1.06s/it]\n"
     ]
    },
    {
     "name": "stdout",
     "output_type": "stream",
     "text": [
      "5.0 (0.7179031541537094, 2.267349693098369)\n"
     ]
    },
    {
     "name": "stderr",
     "output_type": "stream",
     "text": [
      "282it [03:46,  1.25it/s]\n"
     ]
    },
    {
     "name": "stdout",
     "output_type": "stream",
     "text": [
      "7.5 (0.718791648156375, 2.2035483447565922)\n"
     ]
    },
    {
     "name": "stderr",
     "output_type": "stream",
     "text": [
      "282it [04:33,  1.03it/s]"
     ]
    },
    {
     "name": "stdout",
     "output_type": "stream",
     "text": [
      "10.0 (0.7156819191470457, 2.1178331847510727)\n"
     ]
    },
    {
     "name": "stderr",
     "output_type": "stream",
     "text": [
      "\n"
     ]
    },
    {
     "data": {
      "text/plain": [
       "[(0.7201243891603731, 2.3117428590646587),\n",
       " (0.7179031541537094, 2.267349693098369),\n",
       " (0.718791648156375, 2.2035483447565922),\n",
       " (0.7156819191470457, 2.1178331847510727)]"
      ]
     },
     "execution_count": 27,
     "metadata": {},
     "output_type": "execute_result"
    }
   ],
   "source": [
    "from utils.steering import get_arc_easy_accuracy_with_steering_multiple_hooks\n",
    "thres = 10\n",
    "\n",
    "steering_vectors = []\n",
    "for i, layer in tqdm(enumerate(range(9, 16))):\n",
    "    features_to_steer = np.argsort(-Xs_difference[i])[:thres]\n",
    "    coefs_to_add_features = -np.sort(-Xs_difference[i])[:thres]\n",
    "    print(coefs_to_add_features)\n",
    "    steering_vectors = [sae.W_dec[steering_feature] for steering_feature in features_to_steer]\n",
    "    steering_vector = sum([feature_v * coef for feature_v, coef in zip(steering_vectors, coefs_to_add_features)])\n",
    "    steering_vectors.append(steering_vector)\n",
    "\n",
    "evaluated = []\n",
    "for strength in np.linspace(0, 10, 5):\n",
    "    if strength == 0:\n",
    "        continue\n",
    "    steering_strengths = [strength for _ in range(len(steering_vectors))]\n",
    "\n",
    "    res = get_arc_easy_accuracy_with_steering_multiple_hooks(model=model, hook_points=hook_names, sae_context_size=sae.cfg.context_size,\n",
    "                                                                batch_size=8, dataset_split=\"train\", steering_vectors=steering_vectors, steering_strengths=steering_strengths)\n",
    "    print(strength, res)\n",
    "    evaluated.append(res)\n",
    "evaluated"
   ]
  },
  {
   "cell_type": "code",
   "execution_count": 33,
   "metadata": {},
   "outputs": [
    {
     "name": "stderr",
     "output_type": "stream",
     "text": [
      "7it [00:05,  1.37it/s]\n",
      "6it [00:10,  1.75s/it]\n"
     ]
    },
    {
     "ename": "KeyboardInterrupt",
     "evalue": "",
     "output_type": "error",
     "traceback": [
      "\u001b[0;31m---------------------------------------------------------------------------\u001b[0m",
      "\u001b[0;31mKeyboardInterrupt\u001b[0m                         Traceback (most recent call last)",
      "Cell \u001b[0;32mIn[33], line 18\u001b[0m\n\u001b[1;32m     15\u001b[0m     \u001b[38;5;28;01mcontinue\u001b[39;00m\n\u001b[1;32m     16\u001b[0m steering_strengths \u001b[38;5;241m=\u001b[39m [strength \u001b[38;5;28;01mfor\u001b[39;00m _ \u001b[38;5;129;01min\u001b[39;00m \u001b[38;5;28mrange\u001b[39m(\u001b[38;5;28mlen\u001b[39m(steering_vectors))]\n\u001b[0;32m---> 18\u001b[0m res \u001b[38;5;241m=\u001b[39m get_arc_easy_accuracy_with_steering_multiple_hooks(model\u001b[38;5;241m=\u001b[39mmodel, hook_points\u001b[38;5;241m=\u001b[39mhook_names, sae_context_size\u001b[38;5;241m=\u001b[39msae\u001b[38;5;241m.\u001b[39mcfg\u001b[38;5;241m.\u001b[39mcontext_size,\n\u001b[1;32m     19\u001b[0m                                                             batch_size\u001b[38;5;241m=\u001b[39m\u001b[38;5;241m8\u001b[39m, dataset_split\u001b[38;5;241m=\u001b[39m\u001b[38;5;124m\"\u001b[39m\u001b[38;5;124mtrain\u001b[39m\u001b[38;5;124m\"\u001b[39m, steering_vectors\u001b[38;5;241m=\u001b[39msteering_vectors, steering_strengths\u001b[38;5;241m=\u001b[39msteering_strengths)\n\u001b[1;32m     20\u001b[0m \u001b[38;5;28mprint\u001b[39m(strength, res)\n\u001b[1;32m     21\u001b[0m evaluated\u001b[38;5;241m.\u001b[39mappend(res)\n",
      "File \u001b[0;32m/project/inductive-bias/llama/sae/utils/steering.py:161\u001b[0m, in \u001b[0;36mget_arc_easy_accuracy_with_steering_multiple_hooks\u001b[0;34m(model, hook_points, sae_context_size, batch_size, dataset_split, steering_vectors, steering_strengths)\u001b[0m\n\u001b[1;32m    158\u001b[0m     steering_hooks\u001b[38;5;241m.\u001b[39mappend((hook_point, steering_hook))\n\u001b[1;32m    160\u001b[0m \u001b[38;5;28;01mwith\u001b[39;00m model\u001b[38;5;241m.\u001b[39mhooks(fwd_hooks\u001b[38;5;241m=\u001b[39msteering_hooks):\n\u001b[0;32m--> 161\u001b[0m     logits \u001b[38;5;241m=\u001b[39m model(batch_tokens, return_type\u001b[38;5;241m=\u001b[39m\u001b[38;5;124m\"\u001b[39m\u001b[38;5;124mlogits\u001b[39m\u001b[38;5;124m\"\u001b[39m)\u001b[38;5;241m.\u001b[39mcpu()\n\u001b[1;32m    162\u001b[0m correct_logits \u001b[38;5;241m=\u001b[39m [model\u001b[38;5;241m.\u001b[39mtokenizer\u001b[38;5;241m.\u001b[39mconvert_tokens_to_ids(\u001b[38;5;28mchr\u001b[39m(\u001b[38;5;28mord\u001b[39m(\u001b[38;5;124m\"\u001b[39m\u001b[38;5;124mA\u001b[39m\u001b[38;5;124m\"\u001b[39m) \u001b[38;5;241m+\u001b[39m label)) \u001b[38;5;28;01mfor\u001b[39;00m label \u001b[38;5;129;01min\u001b[39;00m batch[\u001b[38;5;124m\"\u001b[39m\u001b[38;5;124mcorrect_label\u001b[39m\u001b[38;5;124m\"\u001b[39m]]\n\u001b[1;32m    163\u001b[0m incorrect_logits \u001b[38;5;241m=\u001b[39m [\n\u001b[1;32m    164\u001b[0m         [\n\u001b[1;32m    165\u001b[0m             model\u001b[38;5;241m.\u001b[39mtokenizer\u001b[38;5;241m.\u001b[39mconvert_tokens_to_ids(\u001b[38;5;28mchr\u001b[39m(\u001b[38;5;28mord\u001b[39m(\u001b[38;5;124m\"\u001b[39m\u001b[38;5;124mA\u001b[39m\u001b[38;5;124m\"\u001b[39m) \u001b[38;5;241m+\u001b[39m label)) \u001b[38;5;28;01mfor\u001b[39;00m label \u001b[38;5;129;01min\u001b[39;00m \u001b[38;5;28mrange\u001b[39m(num_labels) \u001b[38;5;28;01mif\u001b[39;00m label \u001b[38;5;241m!=\u001b[39m correct_label\n\u001b[1;32m    166\u001b[0m         ]\n\u001b[1;32m    167\u001b[0m         \u001b[38;5;28;01mfor\u001b[39;00m correct_label, num_labels \u001b[38;5;129;01min\u001b[39;00m \u001b[38;5;28mzip\u001b[39m(batch[\u001b[38;5;124m\"\u001b[39m\u001b[38;5;124mcorrect_label\u001b[39m\u001b[38;5;124m\"\u001b[39m], batch[\u001b[38;5;124m\"\u001b[39m\u001b[38;5;124mnum_labels\u001b[39m\u001b[38;5;124m\"\u001b[39m])\n\u001b[1;32m    168\u001b[0m     ]\n",
      "\u001b[0;31mKeyboardInterrupt\u001b[0m: "
     ]
    }
   ],
   "source": [
    "from utils.steering import get_arc_easy_accuracy_with_steering_multiple_hooks\n",
    "thres = 5000\n",
    "\n",
    "steering_vectors = []\n",
    "for i, layer in tqdm(enumerate(range(9, 16))):\n",
    "    features_to_steer = np.argsort(-Xs_difference[i])[:thres]\n",
    "    coefs_to_add_features = -np.sort(-Xs_difference[i])[:thres]\n",
    "    steering_vectors = [sae.W_dec[steering_feature] for steering_feature in features_to_steer]\n",
    "    steering_vector = sum([feature_v * coef for feature_v, coef in zip(steering_vectors, coefs_to_add_features)])\n",
    "    steering_vectors.append(steering_vector)\n",
    "\n",
    "evaluated = []\n",
    "for strength in np.linspace(-5, 0, 5):\n",
    "    if strength == 0:\n",
    "        continue\n",
    "    steering_strengths = [strength for _ in range(len(steering_vectors))]\n",
    "\n",
    "    res = get_arc_easy_accuracy_with_steering_multiple_hooks(model=model, hook_points=hook_names, sae_context_size=sae.cfg.context_size,\n",
    "                                                                batch_size=8, dataset_split=\"train\", steering_vectors=steering_vectors, steering_strengths=steering_strengths)\n",
    "    print(strength, res)\n",
    "    evaluated.append(res)\n",
    "evaluated"
   ]
  },
  {
   "cell_type": "code",
   "execution_count": 35,
   "metadata": {},
   "outputs": [
    {
     "name": "stderr",
     "output_type": "stream",
     "text": [
      "7it [00:08,  1.22s/it]\n",
      "282it [04:29,  1.05it/s]\n"
     ]
    },
    {
     "name": "stdout",
     "output_type": "stream",
     "text": [
      "-20.0 (0.7103509551310528, 2.1884084720179433)\n"
     ]
    },
    {
     "name": "stderr",
     "output_type": "stream",
     "text": [
      "282it [07:05,  1.51s/it]\n"
     ]
    },
    {
     "name": "stdout",
     "output_type": "stream",
     "text": [
      "-15.0 (0.7183474011550423, 2.283793885990653)\n"
     ]
    },
    {
     "name": "stderr",
     "output_type": "stream",
     "text": [
      "282it [10:49,  2.30s/it]\n"
     ]
    },
    {
     "name": "stdout",
     "output_type": "stream",
     "text": [
      "-10.0 (0.7219013771657041, 2.3383719521805957)\n"
     ]
    },
    {
     "name": "stderr",
     "output_type": "stream",
     "text": [
      "282it [10:18,  2.19s/it]"
     ]
    },
    {
     "name": "stdout",
     "output_type": "stream",
     "text": [
      "-5.0 (0.7241226121723678, 2.3597576856507243)\n"
     ]
    },
    {
     "name": "stderr",
     "output_type": "stream",
     "text": [
      "\n"
     ]
    },
    {
     "data": {
      "text/plain": [
       "[(0.7103509551310528, 2.1884084720179433),\n",
       " (0.7183474011550423, 2.283793885990653),\n",
       " (0.7219013771657041, 2.3383719521805957),\n",
       " (0.7241226121723678, 2.3597576856507243)]"
      ]
     },
     "execution_count": 35,
     "metadata": {},
     "output_type": "execute_result"
    }
   ],
   "source": [
    "from utils.steering import get_arc_easy_accuracy_with_steering_multiple_hooks\n",
    "\n",
    "steering_vectors = []\n",
    "for i, layer in tqdm(enumerate(range(9, 16))):\n",
    "    features_to_steer = np.argsort(-Xs_difference[i])\n",
    "    coefs_to_add_features = -np.sort(-Xs_difference[i])\n",
    "    steering_vectors = [sae.W_dec[steering_feature] for steering_feature in features_to_steer]\n",
    "    steering_vector = sum([feature_v * coef for feature_v, coef in zip(steering_vectors, coefs_to_add_features)])\n",
    "    steering_vectors.append(steering_vector)\n",
    "\n",
    "evaluated = []\n",
    "for strength in np.linspace(-20, 0, 5):\n",
    "    if strength == 0:\n",
    "        continue\n",
    "    steering_strengths = [strength for _ in range(len(steering_vectors))]\n",
    "\n",
    "    res = get_arc_easy_accuracy_with_steering_multiple_hooks(model=model, hook_points=hook_names, sae_context_size=sae.cfg.context_size,\n",
    "                                                                batch_size=8, dataset_split=\"train\", steering_vectors=steering_vectors, steering_strengths=steering_strengths)\n",
    "    print(strength, res)\n",
    "    evaluated.append(res)\n",
    "evaluated"
   ]
  },
  {
   "cell_type": "code",
   "execution_count": null,
   "metadata": {},
   "outputs": [],
   "source": []
  }
 ],
 "metadata": {
  "kernelspec": {
   "display_name": "sae",
   "language": "python",
   "name": "python3"
  },
  "language_info": {
   "codemirror_mode": {
    "name": "ipython",
    "version": 3
   },
   "file_extension": ".py",
   "mimetype": "text/x-python",
   "name": "python",
   "nbconvert_exporter": "python",
   "pygments_lexer": "ipython3",
   "version": "3.11.9"
  }
 },
 "nbformat": 4,
 "nbformat_minor": 2
}
